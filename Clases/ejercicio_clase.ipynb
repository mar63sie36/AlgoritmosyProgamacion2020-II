{
 "metadata": {
  "language_info": {
   "codemirror_mode": {
    "name": "ipython",
    "version": 3
   },
   "file_extension": ".py",
   "mimetype": "text/x-python",
   "name": "python",
   "nbconvert_exporter": "python",
   "pygments_lexer": "ipython3",
   "version": 3
  },
  "orig_nbformat": 2
 },
 "nbformat": 4,
 "nbformat_minor": 2,
 "cells": [
  {
   "cell_type": "code",
   "execution_count": null,
   "metadata": {},
   "outputs": [],
   "source": [
    "#Aprendizaje de máquina\n",
    "import sklearn \n",
    "#SET DATOS\n",
    "from sklearn.datasets import load_iris\n",
    "#Division de datos\n",
    "from sklearn.model_selection import train_test_split\n",
    "#para entrenar y para verificar\n",
    "#cargar el set de datos\n",
    "iris=load_iris()\n",
    "#print(type(iris))\n",
    "print(iris.keys())\n",
    "print(iris['data'])\n",
    "print(iris['target_names'])\n",
    "print(iris['target'])\n",
    "print(iris['feature_names'])\n",
    "\n",
    "datosEntrenamiento, datosPrueba,respuestasEntrenamiento,respuestaPrueba=train_test_split(iris['data'],iris['target'])\n",
    "print(datosEntrenamiento.shape)\n",
    "#print (datosEntrenamiento)\n",
    "print(respuestasEntrenamiento)\n",
    "\n",
    "from sklearn.neighbors import KNeighborsClassifier\n",
    "lista_clasificadores = []\n",
    "scores_clasificadores = []\n",
    "lista_clasificadores.append(KNeighborsClassifier(n_neighbors=3))\n",
    "lista_clasificadores.append(KNeighborsClassifier(n_neighbors=10))\n",
    "lista_clasificadores.append(KNeighborsClassifier(n_neighbors=99))\n",
    "for elemento in lista_clasificadores:\n",
    "  elemento.fit(datosEntrenamiento,respuestasEntrenamiento)\n",
    "  scores_clasificadores.append(elemento.score(datosPrueba,respuestaPrueba)*100)\n",
    "  print(elemento.score(datosPrueba,respuestaPrueba)*100)\n",
    "print(scores_clasificadores)\n",
    "\n",
    "import matplotlib.pyplot as plt\n",
    "vecinos_reales = [\"vecino 3\",\"vecino 10\",\"vecino 99\"]\n",
    "plt.bar(vecinos_reales,scores_clasificadores)\n",
    "plt.ylabel(\"Porcentaje\")\n",
    "plt.xlabel(\"Vecinos\")\n",
    "plt.title(\"Comparacion clasificadores\")\n",
    "plt.show()\n",
    "plt.savefig(\"GraficoVecinos.png\")\n",
    "\n",
    "\n"
   ]
  }
 ]
}