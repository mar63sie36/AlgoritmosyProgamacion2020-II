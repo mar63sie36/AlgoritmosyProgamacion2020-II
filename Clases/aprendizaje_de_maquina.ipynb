{
 "metadata": {
  "language_info": {
   "codemirror_mode": {
    "name": "ipython",
    "version": 3
   },
   "file_extension": ".py",
   "mimetype": "text/x-python",
   "name": "python",
   "nbconvert_exporter": "python",
   "pygments_lexer": "ipython3",
   "version": 3
  },
  "orig_nbformat": 2
 },
 "nbformat": 4,
 "nbformat_minor": 2,
 "cells": [
  {
   "cell_type": "code",
   "execution_count": null,
   "metadata": {},
   "outputs": [],
   "source": [
    "#Aprendizaje de máquina\n",
    "import sklearn \n",
    "#set de datos\n",
    "from sklearn.datasets import load_iris \n",
    "#división de datos\n",
    "from sklearn.model_selection import train_test_split\n",
    "#para entrenar y verificar\n",
    "#cargar el set de datos\n",
    "iris=load_iris\n",
    "#print(type(iris))\n",
    "print(iris.keys())\n",
    "print(iris['data'])\n",
    "print(iris['target_names'])\n",
    "print(iris['target'])\n",
    "print(iris['feature_names'])\n",
    "\n",
    "datosEntrenamiento, datosPrueba, respuestasEntrenamiento, respuestaPrueba=train_test_split(iris['data'], iris['target'])\n",
    "print(datosEntrenamiento.shape)\n",
    "#print(datosEntrenamiento)\n",
    "print(respuestasEntrenamiento)\n",
    "\n",
    "from sklearn.neighbors import KNeighborsClassifier\n",
    "knn=KNeighborsClassifier(n_neighbors=4)\n",
    "knn.fit(datosEntrenamiento, respuestasEntrenamiento)\n",
    "\n",
    "print(knn.score(datosPrueba, respuestaPrueba)*100)\n",
    "aux=knn.predict([[6.4, 2.8, 5.6, 2.2]])\n",
    "print(aux)\n",
    "print(iris['target_names'][aux])"
   ]
  }
 ]
}