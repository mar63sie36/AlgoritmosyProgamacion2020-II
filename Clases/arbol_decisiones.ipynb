{
 "metadata": {
  "language_info": {
   "codemirror_mode": {
    "name": "ipython",
    "version": 3
   },
   "file_extension": ".py",
   "mimetype": "text/x-python",
   "name": "python",
   "nbconvert_exporter": "python",
   "pygments_lexer": "ipython3",
   "version": 3
  },
  "orig_nbformat": 2
 },
 "nbformat": 4,
 "nbformat_minor": 2,
 "cells": [
  {
   "cell_type": "code",
   "execution_count": null,
   "metadata": {},
   "outputs": [],
   "source": [
    "#set datos \n",
    "from sklearn.datasets import load_iris\n",
    "#para dividir datos \n",
    "from sklearn.model_selection import train_test_split \n",
    "#clasificador\n",
    "from sklearn.tree import  DecisionTreeClassifier \n",
    "#Cargar datos\n",
    "iris = load_iris()\n",
    "#Dividir aleatoriamente los datos\n",
    "resultado= train_test_split(iris['data'], iris['target'])\n",
    "datosEntrenamiento = resultado[0]\n",
    "datosPrueba = resultado[1]\n",
    "respuestasEntrenamiento =resultado[2]\n",
    "respuestasPrueba = resultado[3]\n",
    "#Crear el algoritmo de aprendizaje\n",
    "arbol = DecisionTreeClassifier(max_depth=5)\n",
    "#Entrenarlo\n",
    "arbol.fit(datosEntrenamiento,respuestasEntrenamiento)\n",
    "#Probando\n",
    "scoreTree = arbol.score(datosPrueba, respuestasPrueba)*100\n",
    "#Mostrar resultado\n",
    "print (f'El resultado de clasificar con arbol de deciones es {scoreTree} % ')"
   ]
  }
 ]
}