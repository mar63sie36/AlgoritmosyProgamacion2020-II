{
  "nbformat": 4,
  "nbformat_minor": 0,
  "metadata": {
    "colab": {
      "name": "pandas.ipynb",
      "provenance": []
    },
    "kernelspec": {
      "name": "python3",
      "display_name": "Python 3"
    }
  },
  "cells": [
    {
      "cell_type": "markdown",
      "metadata": {
        "id": "H6c0PttRf6ik",
        "colab_type": "text"
      },
      "source": [
        "# PANDAS\n",
        "Pandas nos otorga diversas facilidades para el ““domados de datos””. Nos otorga dos estructuras de datos:\n",
        "\n",
        "Series: Es un array unidimensional que representa una columna.\n",
        "DataFrame: Es un conjunto de series que forman una tabla. Se pueden acceder a través de indices como una etiqueta(label) o pueden ser posicionales es decir 0 o índice 100. También pueden ser rangos o slices\n",
        "Estas estructuras de datos no son contenedores de datos. En Pandas las utilizamos para transformar y enriquecer nuestros datos, manipularlos, manejar los faltantes, realizar operaciones aritméticas, combinar diferentes dataframes en uno solo para obtener una nueva tabla.\n",
        "[PDF CON EL RESUMEN DE PANDAS](https://drive.google.com/file/d/1Ti6jBZkSPpIF8VGdtxCz1FbKOHWNxV2M/view?usp=sharing)\n",
        "\n",
        "Entre otras cosas nos sirve principalmente para:\n",
        "\n",
        "\n",
        "1.   Manipular Datos.\n",
        "2.   Manipular Datos Faltantes.\n",
        "3.   Realizar operaciones aritméticas y booleanos.\n",
        "4.   Operaciones similares a las bases de datos como merge y agregaciones.\n",
        "5.   Leer datos de archivo y escribir en disco.\n",
        "\n",
        "\n",
        "*Nota*: Es convención emplear pandas como pd"
      ]
    },
    {
      "cell_type": "code",
      "metadata": {
        "id": "0vka-7rfiHmz",
        "colab_type": "code",
        "colab": {}
      },
      "source": [
        "import pandas as pd"
      ],
      "execution_count": 2,
      "outputs": []
    },
    {
      "cell_type": "markdown",
      "metadata": {
        "id": "gt9OvUykh4Od",
        "colab_type": "text"
      },
      "source": [
        "# Estructura de datos: Series\n",
        "Series es un vector unidimensional, para poder acceder a esta lista podemos usar posiciones o labels, siendo este último el preferido para manipular las series. Una diferencia importante sobre las listas de Python es que los datos son homogéneos, es decir solo podemos tener un tipo de dato por cada Serie.\n",
        "\n",
        "Las Series se pueden crear a partir de cualquier secuencia(listas, tuplas, arrays de numpy y diccionarios).\n",
        "\n",
        "En Python tenemos la filosofía del Duck Typing, si se ve como un pato y hace cuac, a ese animal le llamamos pato, si una serie se comporta una lista, se accede como una lista en principio deberíamos llamarla lista, pero esto no es así.\n",
        "\n",
        "Una mejor aproximación para inicializar Series es utilizar diccionarios."
      ]
    },
    {
      "cell_type": "code",
      "metadata": {
        "id": "P5neKGNHgCSj",
        "colab_type": "code",
        "colab": {
          "base_uri": "https://localhost:8080/",
          "height": 87
        },
        "outputId": "a5d3daec-2d69-4678-b45c-33e993ca878c"
      },
      "source": [
        "series_test = pd.Series([100,200,300])\n",
        "print('Se muestra indice, posición y tipo de dato')\n",
        "print(series_test)"
      ],
      "execution_count": 5,
      "outputs": [
        {
          "output_type": "stream",
          "text": [
            "0    100\n",
            "1    200\n",
            "2    300\n",
            "dtype: int64\n"
          ],
          "name": "stdout"
        }
      ]
    },
    {
      "cell_type": "code",
      "metadata": {
        "id": "3J-wqiV2jeC1",
        "colab_type": "code",
        "colab": {
          "base_uri": "https://localhost:8080/",
          "height": 104
        },
        "outputId": "28026c93-e88e-4652-9dfb-96e0a66306b1"
      },
      "source": [
        "business_results =pd.Series({2017:4200,\n",
        "                  2018:4800,\n",
        "                  2019:5400,\n",
        "                  2020:2200})\n",
        "print(business_results)"
      ],
      "execution_count": 16,
      "outputs": [
        {
          "output_type": "stream",
          "text": [
            "2017    4200\n",
            "2018    4800\n",
            "2019    5400\n",
            "2020    2200\n",
            "dtype: int64\n"
          ],
          "name": "stdout"
        }
      ]
    },
    {
      "cell_type": "markdown",
      "metadata": {
        "id": "1sDHTQ82kSsV",
        "colab_type": "text"
      },
      "source": [
        "#Estructura de datos: DataFrames\n",
        "DataFrames son simplemente una tabla donde las filas y las columnas tienen etiquetas, se puede construir de diferentes formas pero siempre debemos considerar que la estructura que necesitamos construir para inicializarla tiene que ser bidimensional. Una matriz y puede ser una lista de listas, lista de tuplas, un diccionario de Python u otro DataFrame.\n",
        "\n",
        "Si solo tenemos una dimensión a eso no le llamamos DataFrame, le llamamos Serie. Cuando utilizamos un diccionario las llaves se convierten en las llaves de la columna."
      ]
    },
    {
      "cell_type": "code",
      "metadata": {
        "id": "upq9dH57lD6z",
        "colab_type": "code",
        "colab": {
          "base_uri": "https://localhost:8080/",
          "height": 210
        },
        "outputId": "672b8b15-a176-4f4f-f467-f09e00c4bb46"
      },
      "source": [
        "business_results_frame= pd.DataFrame({2017:[2000,1000,1200],\n",
        "                  2018:[2300,1200,1300],\n",
        "                  2019:[2400,1600,1400],\n",
        "                  2020:[1000,600,600]},)\n",
        "print (business_results_frame)\n",
        "business_results_frame"
      ],
      "execution_count": 50,
      "outputs": [
        {
          "output_type": "stream",
          "text": [
            "        2017  2018  2019  2020\n",
            "comida  2000  2300  2400  1000\n",
            "bebida  1000  1200  1600   600\n",
            "extra   1200  1300  1400   600\n"
          ],
          "name": "stdout"
        },
        {
          "output_type": "execute_result",
          "data": {
            "text/html": [
              "<div>\n",
              "<style scoped>\n",
              "    .dataframe tbody tr th:only-of-type {\n",
              "        vertical-align: middle;\n",
              "    }\n",
              "\n",
              "    .dataframe tbody tr th {\n",
              "        vertical-align: top;\n",
              "    }\n",
              "\n",
              "    .dataframe thead th {\n",
              "        text-align: right;\n",
              "    }\n",
              "</style>\n",
              "<table border=\"1\" class=\"dataframe\">\n",
              "  <thead>\n",
              "    <tr style=\"text-align: right;\">\n",
              "      <th></th>\n",
              "      <th>2017</th>\n",
              "      <th>2018</th>\n",
              "      <th>2019</th>\n",
              "      <th>2020</th>\n",
              "    </tr>\n",
              "  </thead>\n",
              "  <tbody>\n",
              "    <tr>\n",
              "      <th>comida</th>\n",
              "      <td>2000</td>\n",
              "      <td>2300</td>\n",
              "      <td>2400</td>\n",
              "      <td>1000</td>\n",
              "    </tr>\n",
              "    <tr>\n",
              "      <th>bebida</th>\n",
              "      <td>1000</td>\n",
              "      <td>1200</td>\n",
              "      <td>1600</td>\n",
              "      <td>600</td>\n",
              "    </tr>\n",
              "    <tr>\n",
              "      <th>extra</th>\n",
              "      <td>1200</td>\n",
              "      <td>1300</td>\n",
              "      <td>1400</td>\n",
              "      <td>600</td>\n",
              "    </tr>\n",
              "  </tbody>\n",
              "</table>\n",
              "</div>"
            ],
            "text/plain": [
              "        2017  2018  2019  2020\n",
              "comida  2000  2300  2400  1000\n",
              "bebida  1000  1200  1600   600\n",
              "extra   1200  1300  1400   600"
            ]
          },
          "metadata": {
            "tags": []
          },
          "execution_count": 50
        }
      ]
    },
    {
      "cell_type": "code",
      "metadata": {
        "id": "E27b4zgXmWzm",
        "colab_type": "code",
        "colab": {
          "base_uri": "https://localhost:8080/",
          "height": 171
        },
        "outputId": "d079c05b-aced-4053-a798-816c7a66767c"
      },
      "source": [
        "business_results_frame = pd.DataFrame([[2000,1000,1200],\n",
        "                            [2300,1200,1300],\n",
        "                            [2400,1600,1400],\n",
        "                            [1000,600,600]])\n",
        "business_results_frame"
      ],
      "execution_count": 35,
      "outputs": [
        {
          "output_type": "execute_result",
          "data": {
            "text/html": [
              "<div>\n",
              "<style scoped>\n",
              "    .dataframe tbody tr th:only-of-type {\n",
              "        vertical-align: middle;\n",
              "    }\n",
              "\n",
              "    .dataframe tbody tr th {\n",
              "        vertical-align: top;\n",
              "    }\n",
              "\n",
              "    .dataframe thead th {\n",
              "        text-align: right;\n",
              "    }\n",
              "</style>\n",
              "<table border=\"1\" class=\"dataframe\">\n",
              "  <thead>\n",
              "    <tr style=\"text-align: right;\">\n",
              "      <th></th>\n",
              "      <th>0</th>\n",
              "      <th>1</th>\n",
              "      <th>2</th>\n",
              "    </tr>\n",
              "  </thead>\n",
              "  <tbody>\n",
              "    <tr>\n",
              "      <th>0</th>\n",
              "      <td>2000</td>\n",
              "      <td>1000</td>\n",
              "      <td>1200</td>\n",
              "    </tr>\n",
              "    <tr>\n",
              "      <th>1</th>\n",
              "      <td>2300</td>\n",
              "      <td>1200</td>\n",
              "      <td>1300</td>\n",
              "    </tr>\n",
              "    <tr>\n",
              "      <th>2</th>\n",
              "      <td>2300</td>\n",
              "      <td>1200</td>\n",
              "      <td>1300</td>\n",
              "    </tr>\n",
              "    <tr>\n",
              "      <th>3</th>\n",
              "      <td>1000</td>\n",
              "      <td>600</td>\n",
              "      <td>600</td>\n",
              "    </tr>\n",
              "  </tbody>\n",
              "</table>\n",
              "</div>"
            ],
            "text/plain": [
              "      0     1     2\n",
              "0  2000  1000  1200\n",
              "1  2300  1200  1300\n",
              "2  2300  1200  1300\n",
              "3  1000   600   600"
            ]
          },
          "metadata": {
            "tags": []
          },
          "execution_count": 35
        }
      ]
    },
    {
      "cell_type": "code",
      "metadata": {
        "id": "P1gamXckkXbq",
        "colab_type": "code",
        "colab": {
          "base_uri": "https://localhost:8080/",
          "height": 141
        },
        "outputId": "53d6781e-513b-433d-8efd-4b635317e1d8"
      },
      "source": [
        "business_results_frame= pd.DataFrame({2017:[2000,1000,1200],\n",
        "                  2018:[2300,1200,1300],\n",
        "                  2019:[2400,1600,1400],\n",
        "                  2020:[1000,600,600]},index=['comida','bebida','extra'])\n",
        "business_results_frame"
      ],
      "execution_count": 51,
      "outputs": [
        {
          "output_type": "execute_result",
          "data": {
            "text/html": [
              "<div>\n",
              "<style scoped>\n",
              "    .dataframe tbody tr th:only-of-type {\n",
              "        vertical-align: middle;\n",
              "    }\n",
              "\n",
              "    .dataframe tbody tr th {\n",
              "        vertical-align: top;\n",
              "    }\n",
              "\n",
              "    .dataframe thead th {\n",
              "        text-align: right;\n",
              "    }\n",
              "</style>\n",
              "<table border=\"1\" class=\"dataframe\">\n",
              "  <thead>\n",
              "    <tr style=\"text-align: right;\">\n",
              "      <th></th>\n",
              "      <th>2017</th>\n",
              "      <th>2018</th>\n",
              "      <th>2019</th>\n",
              "      <th>2020</th>\n",
              "    </tr>\n",
              "  </thead>\n",
              "  <tbody>\n",
              "    <tr>\n",
              "      <th>comida</th>\n",
              "      <td>2000</td>\n",
              "      <td>2300</td>\n",
              "      <td>2400</td>\n",
              "      <td>1000</td>\n",
              "    </tr>\n",
              "    <tr>\n",
              "      <th>bebida</th>\n",
              "      <td>1000</td>\n",
              "      <td>1200</td>\n",
              "      <td>1600</td>\n",
              "      <td>600</td>\n",
              "    </tr>\n",
              "    <tr>\n",
              "      <th>extra</th>\n",
              "      <td>1200</td>\n",
              "      <td>1300</td>\n",
              "      <td>1400</td>\n",
              "      <td>600</td>\n",
              "    </tr>\n",
              "  </tbody>\n",
              "</table>\n",
              "</div>"
            ],
            "text/plain": [
              "        2017  2018  2019  2020\n",
              "comida  2000  2300  2400  1000\n",
              "bebida  1000  1200  1600   600\n",
              "extra   1200  1300  1400   600"
            ]
          },
          "metadata": {
            "tags": []
          },
          "execution_count": 51
        }
      ]
    },
    {
      "cell_type": "markdown",
      "metadata": {
        "id": "9iUYLsSCnDod",
        "colab_type": "text"
      },
      "source": [
        "# Índices y selección\n",
        "Existen muchas formas de manipular los DataFrames y de seleccionar los elementos que queremos transformar.\n",
        "\n",
        "**Dictionary like:**\n",
        "\n",
        "\n",
        "``` python\n",
        "df['col1'] \n",
        "df[['col1', 'col3']]\n",
        "```\n",
        "\n",
        "\n",
        "\n",
        " **Numpy like:**\n",
        "``` python\n",
        "iloc = index location\n",
        "\n",
        "df.iloc[:]\n",
        "df.iloc[:,:]\n",
        "```\n",
        "**Label based:**\n",
        "``` python\n",
        "loc = location\n",
        "df.loc[:]\n",
        "df.loc[:,:]\n",
        "```\n",
        "Existe una gran diferencia en la forma en la que utilizamos estos slices porque varia de la forma tradicional de Python. loc va a incluir el final del que necesitamos."
      ]
    },
    {
      "cell_type": "code",
      "metadata": {
        "id": "Z43QN3S_npb8",
        "colab_type": "code",
        "colab": {
          "base_uri": "https://localhost:8080/",
          "height": 87
        },
        "outputId": "6ba8533f-527d-4cb7-e0a5-7858716564b2"
      },
      "source": [
        "#Dictionary like\n",
        "business_results_frame[2019]"
      ],
      "execution_count": 52,
      "outputs": [
        {
          "output_type": "execute_result",
          "data": {
            "text/plain": [
              "comida    2400\n",
              "bebida    1600\n",
              "extra     1400\n",
              "Name: 2019, dtype: int64"
            ]
          },
          "metadata": {
            "tags": []
          },
          "execution_count": 52
        }
      ]
    },
    {
      "cell_type": "code",
      "metadata": {
        "id": "dTf5xt8WpRV2",
        "colab_type": "code",
        "colab": {
          "base_uri": "https://localhost:8080/",
          "height": 141
        },
        "outputId": "b578c6b6-90dd-4a7a-f08c-242c31350adb"
      },
      "source": [
        "#Dictionary like\n",
        "business_results_frame[[2019,2018]]"
      ],
      "execution_count": 53,
      "outputs": [
        {
          "output_type": "execute_result",
          "data": {
            "text/html": [
              "<div>\n",
              "<style scoped>\n",
              "    .dataframe tbody tr th:only-of-type {\n",
              "        vertical-align: middle;\n",
              "    }\n",
              "\n",
              "    .dataframe tbody tr th {\n",
              "        vertical-align: top;\n",
              "    }\n",
              "\n",
              "    .dataframe thead th {\n",
              "        text-align: right;\n",
              "    }\n",
              "</style>\n",
              "<table border=\"1\" class=\"dataframe\">\n",
              "  <thead>\n",
              "    <tr style=\"text-align: right;\">\n",
              "      <th></th>\n",
              "      <th>2019</th>\n",
              "      <th>2018</th>\n",
              "    </tr>\n",
              "  </thead>\n",
              "  <tbody>\n",
              "    <tr>\n",
              "      <th>comida</th>\n",
              "      <td>2400</td>\n",
              "      <td>2300</td>\n",
              "    </tr>\n",
              "    <tr>\n",
              "      <th>bebida</th>\n",
              "      <td>1600</td>\n",
              "      <td>1200</td>\n",
              "    </tr>\n",
              "    <tr>\n",
              "      <th>extra</th>\n",
              "      <td>1400</td>\n",
              "      <td>1300</td>\n",
              "    </tr>\n",
              "  </tbody>\n",
              "</table>\n",
              "</div>"
            ],
            "text/plain": [
              "        2019  2018\n",
              "comida  2400  2300\n",
              "bebida  1600  1200\n",
              "extra   1400  1300"
            ]
          },
          "metadata": {
            "tags": []
          },
          "execution_count": 53
        }
      ]
    },
    {
      "cell_type": "code",
      "metadata": {
        "id": "tZMEEavrpkXL",
        "colab_type": "code",
        "colab": {
          "base_uri": "https://localhost:8080/",
          "height": 110
        },
        "outputId": "04f72ee2-177c-45e0-ef28-473ea7de675b"
      },
      "source": [
        "#Numpy like\n",
        "business_results_frame.iloc[:2]"
      ],
      "execution_count": 54,
      "outputs": [
        {
          "output_type": "execute_result",
          "data": {
            "text/html": [
              "<div>\n",
              "<style scoped>\n",
              "    .dataframe tbody tr th:only-of-type {\n",
              "        vertical-align: middle;\n",
              "    }\n",
              "\n",
              "    .dataframe tbody tr th {\n",
              "        vertical-align: top;\n",
              "    }\n",
              "\n",
              "    .dataframe thead th {\n",
              "        text-align: right;\n",
              "    }\n",
              "</style>\n",
              "<table border=\"1\" class=\"dataframe\">\n",
              "  <thead>\n",
              "    <tr style=\"text-align: right;\">\n",
              "      <th></th>\n",
              "      <th>2017</th>\n",
              "      <th>2018</th>\n",
              "      <th>2019</th>\n",
              "      <th>2020</th>\n",
              "    </tr>\n",
              "  </thead>\n",
              "  <tbody>\n",
              "    <tr>\n",
              "      <th>comida</th>\n",
              "      <td>2000</td>\n",
              "      <td>2300</td>\n",
              "      <td>2400</td>\n",
              "      <td>1000</td>\n",
              "    </tr>\n",
              "    <tr>\n",
              "      <th>bebida</th>\n",
              "      <td>1000</td>\n",
              "      <td>1200</td>\n",
              "      <td>1600</td>\n",
              "      <td>600</td>\n",
              "    </tr>\n",
              "  </tbody>\n",
              "</table>\n",
              "</div>"
            ],
            "text/plain": [
              "        2017  2018  2019  2020\n",
              "comida  2000  2300  2400  1000\n",
              "bebida  1000  1200  1600   600"
            ]
          },
          "metadata": {
            "tags": []
          },
          "execution_count": 54
        }
      ]
    },
    {
      "cell_type": "code",
      "metadata": {
        "id": "KGr3A20Pp8Bz",
        "colab_type": "code",
        "colab": {
          "base_uri": "https://localhost:8080/",
          "height": 52
        },
        "outputId": "ce1bdecf-6470-4695-ac96-a1ad9ae762db"
      },
      "source": [
        "#Numpy like\n",
        "business_results_frame.iloc[1:2][2019]\n",
        "\n"
      ],
      "execution_count": 55,
      "outputs": [
        {
          "output_type": "execute_result",
          "data": {
            "text/plain": [
              "bebida    1600\n",
              "Name: 2019, dtype: int64"
            ]
          },
          "metadata": {
            "tags": []
          },
          "execution_count": 55
        }
      ]
    },
    {
      "cell_type": "code",
      "metadata": {
        "id": "NJ6yoTu4qXAk",
        "colab_type": "code",
        "colab": {
          "base_uri": "https://localhost:8080/",
          "height": 87
        },
        "outputId": "ccb5b454-45b1-490c-ac8a-ddbbcd96ca3b"
      },
      "source": [
        "#Numpy like\n",
        "business_results_frame.iloc[:][2019]"
      ],
      "execution_count": 56,
      "outputs": [
        {
          "output_type": "execute_result",
          "data": {
            "text/plain": [
              "comida    2400\n",
              "bebida    1600\n",
              "extra     1400\n",
              "Name: 2019, dtype: int64"
            ]
          },
          "metadata": {
            "tags": []
          },
          "execution_count": 56
        }
      ]
    },
    {
      "cell_type": "code",
      "metadata": {
        "id": "lyki1D0stYkO",
        "colab_type": "code",
        "colab": {
          "base_uri": "https://localhost:8080/",
          "height": 141
        },
        "outputId": "49c9b992-13fd-4ced-f226-014676ca0ba4"
      },
      "source": [
        "#Label based:\n",
        "business_results_frame.loc[:,2019:2020]"
      ],
      "execution_count": 67,
      "outputs": [
        {
          "output_type": "execute_result",
          "data": {
            "text/html": [
              "<div>\n",
              "<style scoped>\n",
              "    .dataframe tbody tr th:only-of-type {\n",
              "        vertical-align: middle;\n",
              "    }\n",
              "\n",
              "    .dataframe tbody tr th {\n",
              "        vertical-align: top;\n",
              "    }\n",
              "\n",
              "    .dataframe thead th {\n",
              "        text-align: right;\n",
              "    }\n",
              "</style>\n",
              "<table border=\"1\" class=\"dataframe\">\n",
              "  <thead>\n",
              "    <tr style=\"text-align: right;\">\n",
              "      <th></th>\n",
              "      <th>2019</th>\n",
              "      <th>2020</th>\n",
              "    </tr>\n",
              "  </thead>\n",
              "  <tbody>\n",
              "    <tr>\n",
              "      <th>comida</th>\n",
              "      <td>2400</td>\n",
              "      <td>1000</td>\n",
              "    </tr>\n",
              "    <tr>\n",
              "      <th>bebida</th>\n",
              "      <td>1600</td>\n",
              "      <td>600</td>\n",
              "    </tr>\n",
              "    <tr>\n",
              "      <th>extra</th>\n",
              "      <td>1400</td>\n",
              "      <td>600</td>\n",
              "    </tr>\n",
              "  </tbody>\n",
              "</table>\n",
              "</div>"
            ],
            "text/plain": [
              "        2019  2020\n",
              "comida  2400  1000\n",
              "bebida  1600   600\n",
              "extra   1400   600"
            ]
          },
          "metadata": {
            "tags": []
          },
          "execution_count": 67
        }
      ]
    }
  ]
} 