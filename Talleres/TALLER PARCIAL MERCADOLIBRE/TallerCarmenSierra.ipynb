{
  "nbformat": 4,
  "nbformat_minor": 0,
  "metadata": {
    "colab": {
      "name": "TallerCarmenSierra.ipynb",
      "provenance": []
    },
    "kernelspec": {
      "name": "python3",
      "display_name": "Python 3"
    }
  },
  "cells": [
    {
      "cell_type": "markdown",
      "metadata": {
        "id": "eZfhsaFs3WEq",
        "colab_type": "text"
      },
      "source": [
        "Se anexa el link de la página web"
      ]
    },
    {
      "cell_type": "code",
      "metadata": {
        "id": "avZLmrSV0KRE",
        "colab_type": "code",
        "colab": {
          "base_uri": "https://localhost:8080/",
          "height": 34
        },
        "outputId": "9a26726c-02c5-4d7e-9c2c-a30ddd8052f0"
      },
      "source": [
        "import requests \n",
        "url = 'https://listado.mercadolibre.com.co/celulares#D[A:celulares]'\n",
        "response = requests.get (url)\n",
        "print (response)"
      ],
      "execution_count": 1,
      "outputs": [
        {
          "output_type": "stream",
          "text": [
            "<Response [200]>\n"
          ],
          "name": "stdout"
        }
      ]
    },
    {
      "cell_type": "markdown",
      "metadata": {
        "id": "E4FkvzXr3cIn",
        "colab_type": "text"
      },
      "source": [
        "Se importan los datos de nombres y precios de los productos de la página web seleccionada"
      ]
    },
    {
      "cell_type": "code",
      "metadata": {
        "id": "6T3EqJzR0jwT",
        "colab_type": "code",
        "colab": {
          "base_uri": "https://localhost:8080/",
          "height": 125
        },
        "outputId": "e945e273-9ad8-4f35-c99d-35ff1ebe6fe3"
      },
      "source": [
        "import bs4\n",
        "parseo = bs4.BeautifulSoup (response.text, 'html.parser')\n",
        "getDataSelect = lambda clase : parseo.select(clase)\n",
        "dataTitle = parseo.select ('.ui-search-item__title')\n",
        "dataPrice = getDataSelect('.price-tag-fraction')\n",
        "print (dataTitle)\n",
        "print (dataPrice)\n",
        "nombreCelulares2 = []\n",
        "nombreCelulares = []\n",
        "funcionExtraerTexto = lambda elemento : elemento.text\n",
        "funcionListaDatos = lambda funcion, data :  list (map (funcion,data))\n",
        "nombreCelulares = funcionListaDatos(funcionExtraerTexto, dataTitle)\n",
        "for elemento in dataTitle :\n",
        "  nombreCelulares2.append (elemento.text)\n",
        "\n",
        "print (nombreCelulares)\n",
        "print (nombreCelulares)\n",
        "listaPrecios = funcionListaDatos(funcionExtraerTexto, dataPrice)\n",
        "print (listaPrecios)"
      ],
      "execution_count": 4,
      "outputs": [
        {
          "output_type": "stream",
          "text": [
            "[<h2 class=\"ui-search-item__title\">Celular Xiaomi Redmi Note 9 128gb 48mp 4gb Ram Bat 5020mah </h2>, <h2 class=\"ui-search-item__title\">Celular Libre Xiaomi Redmi Note 9 128gb 48mpx 4g Lte</h2>, <h2 class=\"ui-search-item__title\">Celular Xiaomi Redmi Note 8 /64gb/48mp/4ram + Forro Y Vidrio</h2>, <h2 class=\"ui-search-item__title\">Celular Xiaomi Redmi Note 9 Pro 128gb/6 Ram / 64mp + Forro </h2>, <h2 class=\"ui-search-item__title\">Celular Xiaomi Redmi Note 9s /128gb/48mp/ 6ram + Forro</h2>, <h2 class=\"ui-search-item__title\">Celular Libre Xiaomi Redmi Note 8 64gb 48mpx 4g Lte</h2>, <h2 class=\"ui-search-item__title\">Celular Motorola Moto One Macro</h2>, <h2 class=\"ui-search-item__title\">Celular Motorola One Action Color Blanco</h2>, <h2 class=\"ui-search-item__title\">Celular Motorola Moto One Macro</h2>, <h2 class=\"ui-search-item__title\">Celular Motorola One Action Color Blanco</h2>, <h2 class=\"ui-search-item__title\"> Celular Motorola Moto G8 Plus 64gb</h2>, <h2 class=\"ui-search-item__title\">Celular Xiaomi Redmi Note 9 /128gb/48mp/4ram + Forro</h2>, <h2 class=\"ui-search-item__title\">Celular Xiaomi Redmi Note 8 Global 128gb 4 Ram Garantía 12 M</h2>, <h2 class=\"ui-search-item__title\">Celular Libre Panasonic Gd100s Radio Fm Linterna Dual Sim 2g</h2>, <h2 class=\"ui-search-item__title\">Celular Xiaomi Redmi 9 64 Gb 4 Gb Ram 4 Camaras + Forro</h2>, <h2 class=\"ui-search-item__title\">Celular Xiaomi Redmi Note 8 Global 64 Gb 4 Ram Garantía 12 M</h2>, <h2 class=\"ui-search-item__title\">Celular Libre Xiaomi Redmi Note 8 128gb 48mp 4000 Mah 4g Lte</h2>, <h2 class=\"ui-search-item__title\">Samsung Galaxy A30s 128gb 4g</h2>, <h2 class=\"ui-search-item__title\"> Celular Motorola Moto G8 Plus 64gb</h2>, <h2 class=\"ui-search-item__title\">Celular Samsung Galaxy M31 128gb+6gb+4camáras</h2>, <h2 class=\"ui-search-item__title\">Celular iPhone 11 128gb Nuevo 100% Original Y Sellada </h2>, <h2 class=\"ui-search-item__title\">Celular Xiaomi Redmi Note 9s /64gb/48mp/4ram + Forro</h2>, <h2 class=\"ui-search-item__title\">Celular Samsung A51 /128gb/ 4ram / 48mp + Vidrio Y Forro</h2>, <h2 class=\"ui-search-item__title\">Celular Samsung Galaxy M31 128gb+6gb+4camáras</h2>, <h2 class=\"ui-search-item__title\">Celular Samsung Galaxy A31 Negro Dual Sim 128 Gb </h2>, <h2 class=\"ui-search-item__title\">Xioami Note 9 128gb 4gb Ram</h2>, <h2 class=\"ui-search-item__title\">Celular Xiaomi Redmi Note 8 Pro /64gb/64mp/ 6 Ram + Forro</h2>, <h2 class=\"ui-search-item__title\">Celular Libre Xiaomi Redmi Note 9s 64gb 48mp 4gb 4g Lte </h2>, <h2 class=\"ui-search-item__title\">Celular Xiaomi Redmi Note 9 Pro  /64gb/64mp/6ram + Forro</h2>, <h2 class=\"ui-search-item__title\">Celular Samsung Galaxy A31 Negro Dual Sim 128 Gb </h2>, <h2 class=\"ui-search-item__title\">Celular 4g 3gb/32gb/128gb Sd Dual Sim Neffos C9</h2>, <h2 class=\"ui-search-item__title\">Celular Xiaomi Mi Note 10 /128gb/108mp/6ram/6.47  + Forro </h2>, <h2 class=\"ui-search-item__title\">Celular iPhone 11 64gb Sellado Nuevo 4g</h2>, <h2 class=\"ui-search-item__title\">Huawei Y9 Prime 2019 4g</h2>, <h2 class=\"ui-search-item__title\">Celular iPhone SE 2020 64gb Chip A13</h2>, <h2 class=\"ui-search-item__title\">Motorola Moto G8 Power 4g </h2>, <h2 class=\"ui-search-item__title\">Celular Xiaomi Redmi Note 9 /64gb/48mp/3ram + Forro</h2>, <h2 class=\"ui-search-item__title\">Celular Xiaomi Redmi Note 9s /128gb/48mp/ 6ram + Estuche</h2>, <h2 class=\"ui-search-item__title\">Celular 4g 3gb/32gb/128gb Sd Dual Sim Neffos C9</h2>, <h2 class=\"ui-search-item__title\">Motorola Moto G8 Play 4g</h2>, <h2 class=\"ui-search-item__title\">Celular Xiaomi Redmi Note 9 /128gb/48mp/4ram+ Forro Y Vidrio</h2>, <h2 class=\"ui-search-item__title\">Celular Xiaomi Redmi Note 9 Pro 128gb/64mp + Forro Y Vidrio </h2>, <h2 class=\"ui-search-item__title\">Xiaomi Note 9 Pro 128gb Nuevo-sellado-garantia</h2>, <h2 class=\"ui-search-item__title\">Celular Nokia 106 </h2>, <h2 class=\"ui-search-item__title\">Celular Xiaomi Redmi Note 8 Pro 128gb 64mpx 6 Ram + Estuche</h2>, <h2 class=\"ui-search-item__title\">iPhone 11 64gb  Sellado Entrega Inmediata 1 Año Garantía </h2>, <h2 class=\"ui-search-item__title\">Celular Samsung Galaxy S20+ Plus 128gb Ram 8gb Cam 64mpx</h2>, <h2 class=\"ui-search-item__title\">Samsung Galaxy A51 4g</h2>, <h2 class=\"ui-search-item__title\">Celular Huawei P30 Lite 128gb / 4ram 3cam+ Forro Y Vidrio 5d</h2>, <h2 class=\"ui-search-item__title\">Celular Xiaomi Mi Note 10 Lite /128gb/64mp/6ram + Forro </h2>, <h2 class=\"ui-search-item__title\">Celular Xiaomi Redmi Note 8 Pro /128gb/64mp/ 6 Ram + Forro</h2>, <h2 class=\"ui-search-item__title\">Celular Xiaomi Redmi Note 9s Global 128gb 6 Ram Garantía 12m</h2>, <h2 class=\"ui-search-item__title\">iPhone 11 128gb Nuevo-sellado-garantia</h2>, <h2 class=\"ui-search-item__title\">Motorola Moto G8 Power Lite 4g</h2>, <h2 class=\"ui-search-item__title\">Celular Huawei Honor 10 Lite 32gb 24mp Huella 4g Lte </h2>, <h2 class=\"ui-search-item__title\">LG K61 128gb</h2>]\n",
            "[<span class=\"price-tag-fraction\">1.199.900</span>, <span class=\"price-tag-fraction\">729.900</span>, <span class=\"price-tag-fraction\">20.275</span>, <span class=\"price-tag-fraction\">1.299.900</span>, <span class=\"price-tag-fraction\">779.900</span>, <span class=\"price-tag-fraction\">21.664</span>, <span class=\"price-tag-fraction\">1.159.000</span>, <span class=\"price-tag-fraction\">679.900</span>, <span class=\"price-tag-fraction\">18.886</span>, <span class=\"price-tag-fraction\">1.569.000</span>, <span class=\"price-tag-fraction\">1.199.000</span>, <span class=\"price-tag-fraction\">33.306</span>, <span class=\"price-tag-fraction\">1.499.000</span>, <span class=\"price-tag-fraction\">925.000</span>, <span class=\"price-tag-fraction\">25.694</span>, <span class=\"price-tag-fraction\">1.159.900</span>, <span class=\"price-tag-fraction\">639.900</span>, <span class=\"price-tag-fraction\">17.775</span>, <span class=\"price-tag-fraction\">999.900</span>, <span class=\"price-tag-fraction\">499.900</span>, <span class=\"price-tag-fraction\">13.886</span>, <span class=\"price-tag-fraction\">1.299.900</span>, <span class=\"price-tag-fraction\">679.900</span>, <span class=\"price-tag-fraction\">18.886</span>, <span class=\"price-tag-fraction\">999.900</span>, <span class=\"price-tag-fraction\">499.900</span>, <span class=\"price-tag-fraction\">13.886</span>, <span class=\"price-tag-fraction\">1.299.900</span>, <span class=\"price-tag-fraction\">679.900</span>, <span class=\"price-tag-fraction\">18.886</span>, <span class=\"price-tag-fraction\">1.299.900</span>, <span class=\"price-tag-fraction\">659.900</span>, <span class=\"price-tag-fraction\">18.331</span>, <span class=\"price-tag-fraction\">1.099.000</span>, <span class=\"price-tag-fraction\">755.000</span>, <span class=\"price-tag-fraction\">20.972</span>, <span class=\"price-tag-fraction\">1.199.900</span>, <span class=\"price-tag-fraction\">689.900</span>, <span class=\"price-tag-fraction\">19.164</span>, <span class=\"price-tag-fraction\">79.900</span>, <span class=\"price-tag-fraction\">44.900</span>, <span class=\"price-tag-fraction\">1.247</span>, <span class=\"price-tag-fraction\">749.900</span>, <span class=\"price-tag-fraction\">569.900</span>, <span class=\"price-tag-fraction\">15.831</span>, <span class=\"price-tag-fraction\">999.900</span>, <span class=\"price-tag-fraction\">629.900</span>, <span class=\"price-tag-fraction\">17.497</span>, <span class=\"price-tag-fraction\">749.900</span>, <span class=\"price-tag-fraction\">20.831</span>, <span class=\"price-tag-fraction\">782.900</span>, <span class=\"price-tag-fraction\">21.747</span>, <span class=\"price-tag-fraction\">1.299.900</span>, <span class=\"price-tag-fraction\">659.900</span>, <span class=\"price-tag-fraction\">18.331</span>, <span class=\"price-tag-fraction\">1.899.900</span>, <span class=\"price-tag-fraction\">1.109.900</span>, <span class=\"price-tag-fraction\">30.831</span>, <span class=\"price-tag-fraction\">3.799.000</span>, <span class=\"price-tag-fraction\">3.449.000</span>, <span class=\"price-tag-fraction\">95.806</span>, <span class=\"price-tag-fraction\">1.020.000</span>, <span class=\"price-tag-fraction\">849.000</span>, <span class=\"price-tag-fraction\">23.583</span>, <span class=\"price-tag-fraction\">1.475.000</span>, <span class=\"price-tag-fraction\">1.145.000</span>, <span class=\"price-tag-fraction\">31.806</span>, <span class=\"price-tag-fraction\">1.899.900</span>, <span class=\"price-tag-fraction\">1.109.900</span>, <span class=\"price-tag-fraction\">30.831</span>, <span class=\"price-tag-fraction\">1.169.900</span>, <span class=\"price-tag-fraction\">1.099.900</span>, <span class=\"price-tag-fraction\">30.553</span>, <span class=\"price-tag-fraction\">999.900</span>, <span class=\"price-tag-fraction\">779.900</span>, <span class=\"price-tag-fraction\">21.664</span>, <span class=\"price-tag-fraction\">1.349.000</span>, <span class=\"price-tag-fraction\">845.000</span>, <span class=\"price-tag-fraction\">23.472</span>, <span class=\"price-tag-fraction\">1.099.900</span>, <span class=\"price-tag-fraction\">899.900</span>, <span class=\"price-tag-fraction\">24.997</span>, <span class=\"price-tag-fraction\">1.299.000</span>, <span class=\"price-tag-fraction\">979.000</span>, <span class=\"price-tag-fraction\">27.194</span>, <span class=\"price-tag-fraction\">1.169.900</span>, <span class=\"price-tag-fraction\">1.099.900</span>, <span class=\"price-tag-fraction\">30.553</span>, <span class=\"price-tag-fraction\">469.900</span>, <span class=\"price-tag-fraction\">369.900</span>, <span class=\"price-tag-fraction\">10.275</span>, <span class=\"price-tag-fraction\">2.350.000</span>, <span class=\"price-tag-fraction\">1.739.000</span>, <span class=\"price-tag-fraction\">48.306</span>, <span class=\"price-tag-fraction\">3.589.000</span>, <span class=\"price-tag-fraction\">3.199.000</span>, <span class=\"price-tag-fraction\">88.861</span>, <span class=\"price-tag-fraction\">779.900</span>, <span class=\"price-tag-fraction\">699.900</span>, <span class=\"price-tag-fraction\">19.442</span>, <span class=\"price-tag-fraction\">2.059.000</span>, <span class=\"price-tag-fraction\">57.194</span>, <span class=\"price-tag-fraction\">699.900</span>, <span class=\"price-tag-fraction\">19.442</span>, <span class=\"price-tag-fraction\">999.000</span>, <span class=\"price-tag-fraction\">669.000</span>, <span class=\"price-tag-fraction\">18.583</span>, <span class=\"price-tag-fraction\">1.079.900</span>, <span class=\"price-tag-fraction\">924.900</span>, <span class=\"price-tag-fraction\">25.692</span>, <span class=\"price-tag-fraction\">469.900</span>, <span class=\"price-tag-fraction\">369.900</span>, <span class=\"price-tag-fraction\">10.275</span>, <span class=\"price-tag-fraction\">499.900</span>, <span class=\"price-tag-fraction\">13.886</span>, <span class=\"price-tag-fraction\">1.129.000</span>, <span class=\"price-tag-fraction\">775.000</span>, <span class=\"price-tag-fraction\">21.528</span>, <span class=\"price-tag-fraction\">1.599.000</span>, <span class=\"price-tag-fraction\">1.219.000</span>, <span class=\"price-tag-fraction\">33.861</span>, <span class=\"price-tag-fraction\">1.189.999</span>, <span class=\"price-tag-fraction\">33.056</span>, <span class=\"price-tag-fraction\">95.900</span>, <span class=\"price-tag-fraction\">2.664</span>, <span class=\"price-tag-fraction\">989.000</span>, <span class=\"price-tag-fraction\">909.900</span>, <span class=\"price-tag-fraction\">25.275</span>, <span class=\"price-tag-fraction\">3.499.900</span>, <span class=\"price-tag-fraction\">3.198.900</span>, <span class=\"price-tag-fraction\">88.858</span>, <span class=\"price-tag-fraction\">3.799.000</span>, <span class=\"price-tag-fraction\">3.189.000</span>, <span class=\"price-tag-fraction\">88.583</span>, <span class=\"price-tag-fraction\">1.299.900</span>, <span class=\"price-tag-fraction\">1.145.900</span>, <span class=\"price-tag-fraction\">31.831</span>, <span class=\"price-tag-fraction\">1.199.000</span>, <span class=\"price-tag-fraction\">869.000</span>, <span class=\"price-tag-fraction\">24.139</span>, <span class=\"price-tag-fraction\">2.149.000</span>, <span class=\"price-tag-fraction\">1.449.000</span>, <span class=\"price-tag-fraction\">40.250</span>, <span class=\"price-tag-fraction\">1.285.000</span>, <span class=\"price-tag-fraction\">905.000</span>, <span class=\"price-tag-fraction\">25.139</span>, <span class=\"price-tag-fraction\">1.499.900</span>, <span class=\"price-tag-fraction\">999.900</span>, <span class=\"price-tag-fraction\">27.775</span>, <span class=\"price-tag-fraction\">3.449.999</span>, <span class=\"price-tag-fraction\">95.833</span>, <span class=\"price-tag-fraction\">599.900</span>, <span class=\"price-tag-fraction\">16.664</span>, <span class=\"price-tag-fraction\">699.900</span>, <span class=\"price-tag-fraction\">499.900</span>, <span class=\"price-tag-fraction\">41.658</span>, <span class=\"price-tag-fraction\">777.900</span>, <span class=\"price-tag-fraction\">699.900</span>, <span class=\"price-tag-fraction\">19.442</span>]\n",
            "['Celular Xiaomi Redmi Note 9 128gb 48mp 4gb Ram Bat 5020mah ', 'Celular Libre Xiaomi Redmi Note 9 128gb 48mpx 4g Lte', 'Celular Xiaomi Redmi Note 8 /64gb/48mp/4ram + Forro Y Vidrio', 'Celular Xiaomi Redmi Note 9 Pro 128gb/6 Ram / 64mp + Forro ', 'Celular Xiaomi Redmi Note 9s /128gb/48mp/ 6ram + Forro', 'Celular Libre Xiaomi Redmi Note 8 64gb 48mpx 4g Lte', 'Celular Motorola Moto One Macro', 'Celular Motorola One Action Color Blanco', 'Celular Motorola Moto One Macro', 'Celular Motorola One Action Color Blanco', ' Celular Motorola Moto G8 Plus 64gb', 'Celular Xiaomi Redmi Note 9 /128gb/48mp/4ram + Forro', 'Celular Xiaomi Redmi Note 8 Global 128gb 4 Ram Garantía 12 M', 'Celular Libre Panasonic Gd100s Radio Fm Linterna Dual Sim 2g', 'Celular Xiaomi Redmi 9 64 Gb 4 Gb Ram 4 Camaras + Forro', 'Celular Xiaomi Redmi Note 8 Global 64 Gb 4 Ram Garantía 12 M', 'Celular Libre Xiaomi Redmi Note 8 128gb 48mp 4000 Mah 4g Lte', 'Samsung Galaxy A30s 128gb 4g', ' Celular Motorola Moto G8 Plus 64gb', 'Celular Samsung Galaxy M31 128gb+6gb+4camáras', 'Celular iPhone 11 128gb Nuevo 100% Original Y Sellada ', 'Celular Xiaomi Redmi Note 9s /64gb/48mp/4ram + Forro', 'Celular Samsung A51 /128gb/ 4ram / 48mp + Vidrio Y Forro', 'Celular Samsung Galaxy M31 128gb+6gb+4camáras', 'Celular Samsung Galaxy A31 Negro Dual Sim 128 Gb ', 'Xioami Note 9 128gb 4gb Ram', 'Celular Xiaomi Redmi Note 8 Pro /64gb/64mp/ 6 Ram + Forro', 'Celular Libre Xiaomi Redmi Note 9s 64gb 48mp 4gb 4g Lte ', 'Celular Xiaomi Redmi Note 9 Pro  /64gb/64mp/6ram + Forro', 'Celular Samsung Galaxy A31 Negro Dual Sim 128 Gb ', 'Celular 4g 3gb/32gb/128gb Sd Dual Sim Neffos C9', 'Celular Xiaomi Mi Note 10 /128gb/108mp/6ram/6.47  + Forro ', 'Celular iPhone 11 64gb Sellado Nuevo 4g', 'Huawei Y9 Prime 2019 4g', 'Celular iPhone SE 2020 64gb Chip A13', 'Motorola Moto G8 Power 4g ', 'Celular Xiaomi Redmi Note 9 /64gb/48mp/3ram + Forro', 'Celular Xiaomi Redmi Note 9s /128gb/48mp/ 6ram + Estuche', 'Celular 4g 3gb/32gb/128gb Sd Dual Sim Neffos C9', 'Motorola Moto G8 Play 4g', 'Celular Xiaomi Redmi Note 9 /128gb/48mp/4ram+ Forro Y Vidrio', 'Celular Xiaomi Redmi Note 9 Pro 128gb/64mp + Forro Y Vidrio ', 'Xiaomi Note 9 Pro 128gb Nuevo-sellado-garantia', 'Celular Nokia 106 ', 'Celular Xiaomi Redmi Note 8 Pro 128gb 64mpx 6 Ram + Estuche', 'iPhone 11 64gb  Sellado Entrega Inmediata 1 Año Garantía ', 'Celular Samsung Galaxy S20+ Plus 128gb Ram 8gb Cam 64mpx', 'Samsung Galaxy A51 4g', 'Celular Huawei P30 Lite 128gb / 4ram 3cam+ Forro Y Vidrio 5d', 'Celular Xiaomi Mi Note 10 Lite /128gb/64mp/6ram + Forro ', 'Celular Xiaomi Redmi Note 8 Pro /128gb/64mp/ 6 Ram + Forro', 'Celular Xiaomi Redmi Note 9s Global 128gb 6 Ram Garantía 12m', 'iPhone 11 128gb Nuevo-sellado-garantia', 'Motorola Moto G8 Power Lite 4g', 'Celular Huawei Honor 10 Lite 32gb 24mp Huella 4g Lte ', 'LG K61 128gb']\n",
            "['Celular Xiaomi Redmi Note 9 128gb 48mp 4gb Ram Bat 5020mah ', 'Celular Libre Xiaomi Redmi Note 9 128gb 48mpx 4g Lte', 'Celular Xiaomi Redmi Note 8 /64gb/48mp/4ram + Forro Y Vidrio', 'Celular Xiaomi Redmi Note 9 Pro 128gb/6 Ram / 64mp + Forro ', 'Celular Xiaomi Redmi Note 9s /128gb/48mp/ 6ram + Forro', 'Celular Libre Xiaomi Redmi Note 8 64gb 48mpx 4g Lte', 'Celular Motorola Moto One Macro', 'Celular Motorola One Action Color Blanco', 'Celular Motorola Moto One Macro', 'Celular Motorola One Action Color Blanco', ' Celular Motorola Moto G8 Plus 64gb', 'Celular Xiaomi Redmi Note 9 /128gb/48mp/4ram + Forro', 'Celular Xiaomi Redmi Note 8 Global 128gb 4 Ram Garantía 12 M', 'Celular Libre Panasonic Gd100s Radio Fm Linterna Dual Sim 2g', 'Celular Xiaomi Redmi 9 64 Gb 4 Gb Ram 4 Camaras + Forro', 'Celular Xiaomi Redmi Note 8 Global 64 Gb 4 Ram Garantía 12 M', 'Celular Libre Xiaomi Redmi Note 8 128gb 48mp 4000 Mah 4g Lte', 'Samsung Galaxy A30s 128gb 4g', ' Celular Motorola Moto G8 Plus 64gb', 'Celular Samsung Galaxy M31 128gb+6gb+4camáras', 'Celular iPhone 11 128gb Nuevo 100% Original Y Sellada ', 'Celular Xiaomi Redmi Note 9s /64gb/48mp/4ram + Forro', 'Celular Samsung A51 /128gb/ 4ram / 48mp + Vidrio Y Forro', 'Celular Samsung Galaxy M31 128gb+6gb+4camáras', 'Celular Samsung Galaxy A31 Negro Dual Sim 128 Gb ', 'Xioami Note 9 128gb 4gb Ram', 'Celular Xiaomi Redmi Note 8 Pro /64gb/64mp/ 6 Ram + Forro', 'Celular Libre Xiaomi Redmi Note 9s 64gb 48mp 4gb 4g Lte ', 'Celular Xiaomi Redmi Note 9 Pro  /64gb/64mp/6ram + Forro', 'Celular Samsung Galaxy A31 Negro Dual Sim 128 Gb ', 'Celular 4g 3gb/32gb/128gb Sd Dual Sim Neffos C9', 'Celular Xiaomi Mi Note 10 /128gb/108mp/6ram/6.47  + Forro ', 'Celular iPhone 11 64gb Sellado Nuevo 4g', 'Huawei Y9 Prime 2019 4g', 'Celular iPhone SE 2020 64gb Chip A13', 'Motorola Moto G8 Power 4g ', 'Celular Xiaomi Redmi Note 9 /64gb/48mp/3ram + Forro', 'Celular Xiaomi Redmi Note 9s /128gb/48mp/ 6ram + Estuche', 'Celular 4g 3gb/32gb/128gb Sd Dual Sim Neffos C9', 'Motorola Moto G8 Play 4g', 'Celular Xiaomi Redmi Note 9 /128gb/48mp/4ram+ Forro Y Vidrio', 'Celular Xiaomi Redmi Note 9 Pro 128gb/64mp + Forro Y Vidrio ', 'Xiaomi Note 9 Pro 128gb Nuevo-sellado-garantia', 'Celular Nokia 106 ', 'Celular Xiaomi Redmi Note 8 Pro 128gb 64mpx 6 Ram + Estuche', 'iPhone 11 64gb  Sellado Entrega Inmediata 1 Año Garantía ', 'Celular Samsung Galaxy S20+ Plus 128gb Ram 8gb Cam 64mpx', 'Samsung Galaxy A51 4g', 'Celular Huawei P30 Lite 128gb / 4ram 3cam+ Forro Y Vidrio 5d', 'Celular Xiaomi Mi Note 10 Lite /128gb/64mp/6ram + Forro ', 'Celular Xiaomi Redmi Note 8 Pro /128gb/64mp/ 6 Ram + Forro', 'Celular Xiaomi Redmi Note 9s Global 128gb 6 Ram Garantía 12m', 'iPhone 11 128gb Nuevo-sellado-garantia', 'Motorola Moto G8 Power Lite 4g', 'Celular Huawei Honor 10 Lite 32gb 24mp Huella 4g Lte ', 'LG K61 128gb']\n",
            "['1.199.900', '729.900', '20.275', '1.299.900', '779.900', '21.664', '1.159.000', '679.900', '18.886', '1.569.000', '1.199.000', '33.306', '1.499.000', '925.000', '25.694', '1.159.900', '639.900', '17.775', '999.900', '499.900', '13.886', '1.299.900', '679.900', '18.886', '999.900', '499.900', '13.886', '1.299.900', '679.900', '18.886', '1.299.900', '659.900', '18.331', '1.099.000', '755.000', '20.972', '1.199.900', '689.900', '19.164', '79.900', '44.900', '1.247', '749.900', '569.900', '15.831', '999.900', '629.900', '17.497', '749.900', '20.831', '782.900', '21.747', '1.299.900', '659.900', '18.331', '1.899.900', '1.109.900', '30.831', '3.799.000', '3.449.000', '95.806', '1.020.000', '849.000', '23.583', '1.475.000', '1.145.000', '31.806', '1.899.900', '1.109.900', '30.831', '1.169.900', '1.099.900', '30.553', '999.900', '779.900', '21.664', '1.349.000', '845.000', '23.472', '1.099.900', '899.900', '24.997', '1.299.000', '979.000', '27.194', '1.169.900', '1.099.900', '30.553', '469.900', '369.900', '10.275', '2.350.000', '1.739.000', '48.306', '3.589.000', '3.199.000', '88.861', '779.900', '699.900', '19.442', '2.059.000', '57.194', '699.900', '19.442', '999.000', '669.000', '18.583', '1.079.900', '924.900', '25.692', '469.900', '369.900', '10.275', '499.900', '13.886', '1.129.000', '775.000', '21.528', '1.599.000', '1.219.000', '33.861', '1.189.999', '33.056', '95.900', '2.664', '989.000', '909.900', '25.275', '3.499.900', '3.198.900', '88.858', '3.799.000', '3.189.000', '88.583', '1.299.900', '1.145.900', '31.831', '1.199.000', '869.000', '24.139', '2.149.000', '1.449.000', '40.250', '1.285.000', '905.000', '25.139', '1.499.900', '999.900', '27.775', '3.449.999', '95.833', '599.900', '16.664', '699.900', '499.900', '41.658', '777.900', '699.900', '19.442']\n"
          ],
          "name": "stdout"
        }
      ]
    },
    {
      "cell_type": "markdown",
      "metadata": {
        "id": "Z1kTSe2f3nxW",
        "colab_type": "text"
      },
      "source": [
        "Se crean los diccionarios para identificar si la cantidad de nombres y de precios es  igual"
      ]
    },
    {
      "cell_type": "code",
      "metadata": {
        "id": "NNkFS0nb0-37",
        "colab_type": "code",
        "colab": {
          "base_uri": "https://localhost:8080/",
          "height": 34
        },
        "outputId": "01bef58b-4684-48de-81c0-df52bcc124b1"
      },
      "source": [
        "import pandas as pd\n",
        "dictCelulares = {}\n",
        "dictCelulares ['Titulos'] = nombreCelulares[:20]\n",
        "print (len (nombreCelulares), len (listaPrecios))\n",
        "dictCelulares ['Precios'] = listaPrecios[:20]\n",
        "celularesDataFrame = pd.DataFrame(dictCelulares)\n",
        "celularesDataFrame.to_csv('Celulares.csv', index=False)"
      ],
      "execution_count": 6,
      "outputs": [
        {
          "output_type": "stream",
          "text": [
            "56 159\n"
          ],
          "name": "stdout"
        }
      ]
    },
    {
      "cell_type": "markdown",
      "metadata": {
        "id": "Wxkpkaoj3yhm",
        "colab_type": "text"
      },
      "source": [
        "Se limitan las listas para que los productos y sus precios sean iguales"
      ]
    },
    {
      "cell_type": "code",
      "metadata": {
        "id": "Mdp_Qdmj1i5b",
        "colab_type": "code",
        "colab": {
          "base_uri": "https://localhost:8080/",
          "height": 72
        },
        "outputId": "8d069d3d-f864-43d2-e4b6-03bc8573da88"
      },
      "source": [
        "funcionAgregarCelular = lambda elemento : 'celular : ' + elemento\n",
        "titulosCelulares = list (map(funcionAgregarCelular,nombreCelulares))\n",
        "print (titulosCelulares)\n",
        "titulosCelulares2 = funcionListaDatos (funcionAgregarCelular, nombreCelulares)\n",
        "print (titulosCelulares2)\n",
        "dictCelulares = {}\n",
        "dictCelulares['Titulos'] = titulosCelulares2[:20]\n",
        "dictCelulares['Precios'] = listaPrecios[:20]\n",
        "celularesDF = pd.DataFrame(dictCelulares)\n",
        "celularesDF.to_csv('celularesMod.csv', index= False) "
      ],
      "execution_count": 8,
      "outputs": [
        {
          "output_type": "stream",
          "text": [
            "['celular : Celular Xiaomi Redmi Note 9 128gb 48mp 4gb Ram Bat 5020mah ', 'celular : Celular Libre Xiaomi Redmi Note 9 128gb 48mpx 4g Lte', 'celular : Celular Xiaomi Redmi Note 8 /64gb/48mp/4ram + Forro Y Vidrio', 'celular : Celular Xiaomi Redmi Note 9 Pro 128gb/6 Ram / 64mp + Forro ', 'celular : Celular Xiaomi Redmi Note 9s /128gb/48mp/ 6ram + Forro', 'celular : Celular Libre Xiaomi Redmi Note 8 64gb 48mpx 4g Lte', 'celular : Celular Motorola Moto One Macro', 'celular : Celular Motorola One Action Color Blanco', 'celular : Celular Motorola Moto One Macro', 'celular : Celular Motorola One Action Color Blanco', 'celular :  Celular Motorola Moto G8 Plus 64gb', 'celular : Celular Xiaomi Redmi Note 9 /128gb/48mp/4ram + Forro', 'celular : Celular Xiaomi Redmi Note 8 Global 128gb 4 Ram Garantía 12 M', 'celular : Celular Libre Panasonic Gd100s Radio Fm Linterna Dual Sim 2g', 'celular : Celular Xiaomi Redmi 9 64 Gb 4 Gb Ram 4 Camaras + Forro', 'celular : Celular Xiaomi Redmi Note 8 Global 64 Gb 4 Ram Garantía 12 M', 'celular : Celular Libre Xiaomi Redmi Note 8 128gb 48mp 4000 Mah 4g Lte', 'celular : Samsung Galaxy A30s 128gb 4g', 'celular :  Celular Motorola Moto G8 Plus 64gb', 'celular : Celular Samsung Galaxy M31 128gb+6gb+4camáras', 'celular : Celular iPhone 11 128gb Nuevo 100% Original Y Sellada ', 'celular : Celular Xiaomi Redmi Note 9s /64gb/48mp/4ram + Forro', 'celular : Celular Samsung A51 /128gb/ 4ram / 48mp + Vidrio Y Forro', 'celular : Celular Samsung Galaxy M31 128gb+6gb+4camáras', 'celular : Celular Samsung Galaxy A31 Negro Dual Sim 128 Gb ', 'celular : Xioami Note 9 128gb 4gb Ram', 'celular : Celular Xiaomi Redmi Note 8 Pro /64gb/64mp/ 6 Ram + Forro', 'celular : Celular Libre Xiaomi Redmi Note 9s 64gb 48mp 4gb 4g Lte ', 'celular : Celular Xiaomi Redmi Note 9 Pro  /64gb/64mp/6ram + Forro', 'celular : Celular Samsung Galaxy A31 Negro Dual Sim 128 Gb ', 'celular : Celular 4g 3gb/32gb/128gb Sd Dual Sim Neffos C9', 'celular : Celular Xiaomi Mi Note 10 /128gb/108mp/6ram/6.47  + Forro ', 'celular : Celular iPhone 11 64gb Sellado Nuevo 4g', 'celular : Huawei Y9 Prime 2019 4g', 'celular : Celular iPhone SE 2020 64gb Chip A13', 'celular : Motorola Moto G8 Power 4g ', 'celular : Celular Xiaomi Redmi Note 9 /64gb/48mp/3ram + Forro', 'celular : Celular Xiaomi Redmi Note 9s /128gb/48mp/ 6ram + Estuche', 'celular : Celular 4g 3gb/32gb/128gb Sd Dual Sim Neffos C9', 'celular : Motorola Moto G8 Play 4g', 'celular : Celular Xiaomi Redmi Note 9 /128gb/48mp/4ram+ Forro Y Vidrio', 'celular : Celular Xiaomi Redmi Note 9 Pro 128gb/64mp + Forro Y Vidrio ', 'celular : Xiaomi Note 9 Pro 128gb Nuevo-sellado-garantia', 'celular : Celular Nokia 106 ', 'celular : Celular Xiaomi Redmi Note 8 Pro 128gb 64mpx 6 Ram + Estuche', 'celular : iPhone 11 64gb  Sellado Entrega Inmediata 1 Año Garantía ', 'celular : Celular Samsung Galaxy S20+ Plus 128gb Ram 8gb Cam 64mpx', 'celular : Samsung Galaxy A51 4g', 'celular : Celular Huawei P30 Lite 128gb / 4ram 3cam+ Forro Y Vidrio 5d', 'celular : Celular Xiaomi Mi Note 10 Lite /128gb/64mp/6ram + Forro ', 'celular : Celular Xiaomi Redmi Note 8 Pro /128gb/64mp/ 6 Ram + Forro', 'celular : Celular Xiaomi Redmi Note 9s Global 128gb 6 Ram Garantía 12m', 'celular : iPhone 11 128gb Nuevo-sellado-garantia', 'celular : Motorola Moto G8 Power Lite 4g', 'celular : Celular Huawei Honor 10 Lite 32gb 24mp Huella 4g Lte ', 'celular : LG K61 128gb']\n",
            "['celular : Celular Xiaomi Redmi Note 9 128gb 48mp 4gb Ram Bat 5020mah ', 'celular : Celular Libre Xiaomi Redmi Note 9 128gb 48mpx 4g Lte', 'celular : Celular Xiaomi Redmi Note 8 /64gb/48mp/4ram + Forro Y Vidrio', 'celular : Celular Xiaomi Redmi Note 9 Pro 128gb/6 Ram / 64mp + Forro ', 'celular : Celular Xiaomi Redmi Note 9s /128gb/48mp/ 6ram + Forro', 'celular : Celular Libre Xiaomi Redmi Note 8 64gb 48mpx 4g Lte', 'celular : Celular Motorola Moto One Macro', 'celular : Celular Motorola One Action Color Blanco', 'celular : Celular Motorola Moto One Macro', 'celular : Celular Motorola One Action Color Blanco', 'celular :  Celular Motorola Moto G8 Plus 64gb', 'celular : Celular Xiaomi Redmi Note 9 /128gb/48mp/4ram + Forro', 'celular : Celular Xiaomi Redmi Note 8 Global 128gb 4 Ram Garantía 12 M', 'celular : Celular Libre Panasonic Gd100s Radio Fm Linterna Dual Sim 2g', 'celular : Celular Xiaomi Redmi 9 64 Gb 4 Gb Ram 4 Camaras + Forro', 'celular : Celular Xiaomi Redmi Note 8 Global 64 Gb 4 Ram Garantía 12 M', 'celular : Celular Libre Xiaomi Redmi Note 8 128gb 48mp 4000 Mah 4g Lte', 'celular : Samsung Galaxy A30s 128gb 4g', 'celular :  Celular Motorola Moto G8 Plus 64gb', 'celular : Celular Samsung Galaxy M31 128gb+6gb+4camáras', 'celular : Celular iPhone 11 128gb Nuevo 100% Original Y Sellada ', 'celular : Celular Xiaomi Redmi Note 9s /64gb/48mp/4ram + Forro', 'celular : Celular Samsung A51 /128gb/ 4ram / 48mp + Vidrio Y Forro', 'celular : Celular Samsung Galaxy M31 128gb+6gb+4camáras', 'celular : Celular Samsung Galaxy A31 Negro Dual Sim 128 Gb ', 'celular : Xioami Note 9 128gb 4gb Ram', 'celular : Celular Xiaomi Redmi Note 8 Pro /64gb/64mp/ 6 Ram + Forro', 'celular : Celular Libre Xiaomi Redmi Note 9s 64gb 48mp 4gb 4g Lte ', 'celular : Celular Xiaomi Redmi Note 9 Pro  /64gb/64mp/6ram + Forro', 'celular : Celular Samsung Galaxy A31 Negro Dual Sim 128 Gb ', 'celular : Celular 4g 3gb/32gb/128gb Sd Dual Sim Neffos C9', 'celular : Celular Xiaomi Mi Note 10 /128gb/108mp/6ram/6.47  + Forro ', 'celular : Celular iPhone 11 64gb Sellado Nuevo 4g', 'celular : Huawei Y9 Prime 2019 4g', 'celular : Celular iPhone SE 2020 64gb Chip A13', 'celular : Motorola Moto G8 Power 4g ', 'celular : Celular Xiaomi Redmi Note 9 /64gb/48mp/3ram + Forro', 'celular : Celular Xiaomi Redmi Note 9s /128gb/48mp/ 6ram + Estuche', 'celular : Celular 4g 3gb/32gb/128gb Sd Dual Sim Neffos C9', 'celular : Motorola Moto G8 Play 4g', 'celular : Celular Xiaomi Redmi Note 9 /128gb/48mp/4ram+ Forro Y Vidrio', 'celular : Celular Xiaomi Redmi Note 9 Pro 128gb/64mp + Forro Y Vidrio ', 'celular : Xiaomi Note 9 Pro 128gb Nuevo-sellado-garantia', 'celular : Celular Nokia 106 ', 'celular : Celular Xiaomi Redmi Note 8 Pro 128gb 64mpx 6 Ram + Estuche', 'celular : iPhone 11 64gb  Sellado Entrega Inmediata 1 Año Garantía ', 'celular : Celular Samsung Galaxy S20+ Plus 128gb Ram 8gb Cam 64mpx', 'celular : Samsung Galaxy A51 4g', 'celular : Celular Huawei P30 Lite 128gb / 4ram 3cam+ Forro Y Vidrio 5d', 'celular : Celular Xiaomi Mi Note 10 Lite /128gb/64mp/6ram + Forro ', 'celular : Celular Xiaomi Redmi Note 8 Pro /128gb/64mp/ 6 Ram + Forro', 'celular : Celular Xiaomi Redmi Note 9s Global 128gb 6 Ram Garantía 12m', 'celular : iPhone 11 128gb Nuevo-sellado-garantia', 'celular : Motorola Moto G8 Power Lite 4g', 'celular : Celular Huawei Honor 10 Lite 32gb 24mp Huella 4g Lte ', 'celular : LG K61 128gb']\n"
          ],
          "name": "stdout"
        }
      ]
    },
    {
      "cell_type": "markdown",
      "metadata": {
        "id": "P4rRF57736_U",
        "colab_type": "text"
      },
      "source": [
        "Creo listas de 2 marcas diferentes del producto y las separo "
      ]
    },
    {
      "cell_type": "code",
      "metadata": {
        "id": "1AwNEPrY2HeL",
        "colab_type": "code",
        "colab": {
          "base_uri": "https://localhost:8080/",
          "height": 72
        },
        "outputId": "3fb88967-312c-43dc-d828-cf6f4df5c761"
      },
      "source": [
        "xiaomi = lambda elemento : 'Xiaomi' in elemento \n",
        "huawei = lambda elemento : 'Huawei' in elemento\n",
        "\n",
        "listaXiaomi = list (filter(xiaomi, titulosCelulares))\n",
        "listaHuawei = list (filter(huawei, titulosCelulares))\n",
        "print (listaXiaomi)\n",
        "print (listaHuawei)\n",
        "\n",
        "\n",
        "xiaomiSerie = pd.Series(listaXiaomi)\n",
        "xiaomiSerie.to_csv('Celulares xiaomi.csv',  index_label='Xiaomi')\n",
        "huaweiSerie = pd.Series(listaHuawei)\n",
        "huaweiSerie.to_csv('Celulares huawei.csv',  index_label='Huawei')\n"
      ],
      "execution_count": 9,
      "outputs": [
        {
          "output_type": "stream",
          "text": [
            "['celular : Celular Xiaomi Redmi Note 9 128gb 48mp 4gb Ram Bat 5020mah ', 'celular : Celular Libre Xiaomi Redmi Note 9 128gb 48mpx 4g Lte', 'celular : Celular Xiaomi Redmi Note 8 /64gb/48mp/4ram + Forro Y Vidrio', 'celular : Celular Xiaomi Redmi Note 9 Pro 128gb/6 Ram / 64mp + Forro ', 'celular : Celular Xiaomi Redmi Note 9s /128gb/48mp/ 6ram + Forro', 'celular : Celular Libre Xiaomi Redmi Note 8 64gb 48mpx 4g Lte', 'celular : Celular Xiaomi Redmi Note 9 /128gb/48mp/4ram + Forro', 'celular : Celular Xiaomi Redmi Note 8 Global 128gb 4 Ram Garantía 12 M', 'celular : Celular Xiaomi Redmi 9 64 Gb 4 Gb Ram 4 Camaras + Forro', 'celular : Celular Xiaomi Redmi Note 8 Global 64 Gb 4 Ram Garantía 12 M', 'celular : Celular Libre Xiaomi Redmi Note 8 128gb 48mp 4000 Mah 4g Lte', 'celular : Celular Xiaomi Redmi Note 9s /64gb/48mp/4ram + Forro', 'celular : Celular Xiaomi Redmi Note 8 Pro /64gb/64mp/ 6 Ram + Forro', 'celular : Celular Libre Xiaomi Redmi Note 9s 64gb 48mp 4gb 4g Lte ', 'celular : Celular Xiaomi Redmi Note 9 Pro  /64gb/64mp/6ram + Forro', 'celular : Celular Xiaomi Mi Note 10 /128gb/108mp/6ram/6.47  + Forro ', 'celular : Celular Xiaomi Redmi Note 9 /64gb/48mp/3ram + Forro', 'celular : Celular Xiaomi Redmi Note 9s /128gb/48mp/ 6ram + Estuche', 'celular : Celular Xiaomi Redmi Note 9 /128gb/48mp/4ram+ Forro Y Vidrio', 'celular : Celular Xiaomi Redmi Note 9 Pro 128gb/64mp + Forro Y Vidrio ', 'celular : Xiaomi Note 9 Pro 128gb Nuevo-sellado-garantia', 'celular : Celular Xiaomi Redmi Note 8 Pro 128gb 64mpx 6 Ram + Estuche', 'celular : Celular Xiaomi Mi Note 10 Lite /128gb/64mp/6ram + Forro ', 'celular : Celular Xiaomi Redmi Note 8 Pro /128gb/64mp/ 6 Ram + Forro', 'celular : Celular Xiaomi Redmi Note 9s Global 128gb 6 Ram Garantía 12m']\n",
            "['celular : Huawei Y9 Prime 2019 4g', 'celular : Celular Huawei P30 Lite 128gb / 4ram 3cam+ Forro Y Vidrio 5d', 'celular : Celular Huawei Honor 10 Lite 32gb 24mp Huella 4g Lte ']\n"
          ],
          "name": "stdout"
        }
      ]
    }
  ]
}