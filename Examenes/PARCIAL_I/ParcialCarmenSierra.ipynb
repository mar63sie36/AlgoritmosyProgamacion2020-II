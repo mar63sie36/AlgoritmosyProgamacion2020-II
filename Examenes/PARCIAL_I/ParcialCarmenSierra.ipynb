{
  "nbformat": 4,
  "nbformat_minor": 0,
  "metadata": {
    "colab": {
      "name": "ParcialCarmenSierra.ipynb",
      "provenance": []
    },
    "kernelspec": {
      "name": "python3",
      "display_name": "Python 3"
    }
  },
  "cells": [
    {
      "cell_type": "markdown",
      "metadata": {
        "id": "iYuI-RVZ4GnF",
        "colab_type": "text"
      },
      "source": [
        "Se anexa el link de la página web"
      ]
    },
    {
      "cell_type": "code",
      "metadata": {
        "id": "d4py3wn0uQaZ",
        "colab_type": "code",
        "colab": {
          "base_uri": "https://localhost:8080/",
          "height": 34
        },
        "outputId": "66adf208-965c-49f2-acdd-6547ed145fdc"
      },
      "source": [
        "import requests \n",
        "url = 'https://listado.mercadolibre.com.co/violines#D[A:violines]'\n",
        "response = requests.get (url)\n",
        "print (response)"
      ],
      "execution_count": 43,
      "outputs": [
        {
          "output_type": "stream",
          "text": [
            "<Response [200]>\n"
          ],
          "name": "stdout"
        }
      ]
    },
    {
      "cell_type": "markdown",
      "metadata": {
        "id": "ga88omSq4PfZ",
        "colab_type": "text"
      },
      "source": [
        "Se importan los datos de nombres y precios de los productos de la página web seleccionada"
      ]
    },
    {
      "cell_type": "code",
      "metadata": {
        "id": "yLROvihQufys",
        "colab_type": "code",
        "colab": {
          "base_uri": "https://localhost:8080/",
          "height": 125
        },
        "outputId": "a755bb7a-de26-4eb9-ddd6-470b11f120bb"
      },
      "source": [
        "import bs4\n",
        "parseo = bs4.BeautifulSoup (response.text, 'html.parser')\n",
        "getDataSelect = lambda clase : parseo.select(clase)\n",
        "dataTitle = parseo.select ('.ui-search-item__title')\n",
        "dataPrice = getDataSelect('.price-tag-fraction')\n",
        "print (dataTitle)\n",
        "print (dataPrice)\n",
        "nombreViolines2 = []\n",
        "nombreViolines = []\n",
        "funcionExtraerTexto = lambda elemento : elemento.text\n",
        "funcionListaDatos = lambda funcion, data :  list (map (funcion,data))\n",
        "nombreViolines = funcionListaDatos(funcionExtraerTexto, dataTitle)\n",
        "for elemento in dataTitle :\n",
        "  nombreViolines2.append (elemento.text)\n",
        "\n",
        "print (nombreViolines)\n",
        "print (nombreViolines)\n",
        "listaPrecios = funcionListaDatos(funcionExtraerTexto, dataPrice)\n",
        "print (listaPrecios)"
      ],
      "execution_count": 44,
      "outputs": [
        {
          "output_type": "stream",
          "text": [
            "[<h2 class=\"ui-search-item__title\">Violín 4/4 3/4 Microafinacion Arco Pes Estuche Madera Nuevos</h2>, <h2 class=\"ui-search-item__title\">Cervini Novato Violín Arco Y Estuche By Cremona 1/4 3/4 4/4</h2>, <h2 class=\"ui-search-item__title\">Violines Greko 4/4 3/4 1/2 Violín Fina Madera Factura Iva </h2>, <h2 class=\"ui-search-item__title\">Violín 4/4 Hxtq08a-1 Solido Inlaid Verona</h2>, <h2 class=\"ui-search-item__title\">Almohadilla Universal Chin Bow Vsr4 Para Violines De Lujo</h2>, <h2 class=\"ui-search-item__title\">Colofonia Natural Light Violin, Viola</h2>, <h2 class=\"ui-search-item__title\">Encordado Violin 4/4 Anton Breton Vns-139</h2>, <h2 class=\"ui-search-item__title\">Soporte De Hombro Para Violín Huihnang  1/2, 1/4, 3/4 Y 4/4</h2>, <h2 class=\"ui-search-item__title\">Soporte De Hombro Para Violin Huihnang Madera Acre 4/4 3/4. </h2>, <h2 class=\"ui-search-item__title\">Cello Violonchelo Greko Mc 6011a 4/4 Con Forro Y Arco Chelo</h2>, <h2 class=\"ui-search-item__title\">Violín Académico Aileen. Mate O Brillante 1/8 Hasta 4/4</h2>, <h2 class=\"ui-search-item__title\">Violin Greko Performance First Estuche Afinador Microfono +</h2>, <h2 class=\"ui-search-item__title\">Set Cdas Violin 4/4 Tonica 412025 Pirastro</h2>, <h2 class=\"ui-search-item__title\">Violin Greko Con Estuche Arco Y Colofonia 1/2</h2>, <h2 class=\"ui-search-item__title\">Colofonia Kaplan Premium Vl, Vla</h2>, <h2 class=\"ui-search-item__title\">Cuerda Prelude Cello A (la) 4/4medium</h2>, <h2 class=\"ui-search-item__title\">Violín Greko Mv1410af 3/4</h2>, <h2 class=\"ui-search-item__title\">Soporte De Hombro Para Violín Huihnang  3/4 Y 4/4</h2>, <h2 class=\"ui-search-item__title\">Set Cdas Violin 4/4 Chromcor 319020 Pirastro</h2>, <h2 class=\"ui-search-item__title\">Violin Cervini-cremona Hv-100</h2>, <h2 class=\"ui-search-item__title\">Violin Greko Mv1411a + Estuche Semi-duro Arco Y Colofonia  /</h2>, <h2 class=\"ui-search-item__title\">Violin Importado 4/4 O 3/4 Con Arco, Estuche Y Pez </h2>, <h2 class=\"ui-search-item__title\">Estuche Para Violín En Fibra De Estireno - Estuche Rígido</h2>, <h2 class=\"ui-search-item__title\">Violín De 4 Cuerdas Cremona Sv-50 Violines 3/4 </h2>, <h2 class=\"ui-search-item__title\">Oferta Combo Violin  Greko 1413 Tamaño 4/4 Promocion</h2>, <h2 class=\"ui-search-item__title\">Violín De 4 Cuerdas Cremona Sv-50 Violines 1/2</h2>, <h2 class=\"ui-search-item__title\">Violin Fino Estudiante Nobre Alta Calidad 1/2</h2>, <h2 class=\"ui-search-item__title\">Estuche Violin 4/4 Oblongo Ckc04 Verona</h2>, <h2 class=\"ui-search-item__title\">Violin Cremona Sv50 De 1/16 Para Niños Calidad Superior</h2>, <h2 class=\"ui-search-item__title\">Colofonia D'addario Vr 300 Dark Para Violín - Viola - Cello</h2>, <h2 class=\"ui-search-item__title\">Estuche Violin 3/4 Triangulo Ckc01 Verona</h2>, <h2 class=\"ui-search-item__title\">Violin 3/4 Acústico Con Estuche</h2>, <h2 class=\"ui-search-item__title\">Colofonia Violin 900700 Pirastro</h2>, <h2 class=\"ui-search-item__title\">Encordado Violin 4/4 Anton Breton Vns-149</h2>, <h2 class=\"ui-search-item__title\">Clavija Violín 4/4</h2>, <h2 class=\"ui-search-item__title\">Violín 1/10 En Madera Stingray Mv1411a Con Estuche, Arco</h2>, <h2 class=\"ui-search-item__title\">Violin Cervini-cremona Hv-100-1/2</h2>, <h2 class=\"ui-search-item__title\">Violin De Estudio 4/4 Y 3/4 </h2>, <h2 class=\"ui-search-item__title\">Violin 1/2 Hxtq08a-1 Solido Inlaid Outfits Mate Verona</h2>, <h2 class=\"ui-search-item__title\">Pez Colofonia Resina Super Senstiive Dark Contrabajo America</h2>, <h2 class=\"ui-search-item__title\">Violin Mavis 4/4 Arco Resina Estuche Duro Original</h2>, <h2 class=\"ui-search-item__title\">Theremini - Animoog De Moog Music, Se Toca Sin Tocarlo</h2>, <h2 class=\"ui-search-item__title\">Violin 3/4</h2>, <h2 class=\"ui-search-item__title\">Violin Acústico Con Estuche</h2>, <h2 class=\"ui-search-item__title\">Estuche Violin 4/4 Triangulo Ckc01 Verona</h2>, <h2 class=\"ui-search-item__title\">Violin 1/2 Acústico Con Estuche</h2>, <h2 class=\"ui-search-item__title\">Pez Colofonia Resina Super Sensitive  Violin Viola Americana</h2>, <h2 class=\"ui-search-item__title\">Violín De Estudio 4/4  - Marca Aileen  - Envío Gratis </h2>, <h2 class=\"ui-search-item__title\">Violín Importado Excelente Calidad 4/4, 3/4 Y 1/2 </h2>, <h2 class=\"ui-search-item__title\">Almohadilla Snowpine Para Violín 1/2 En Madera</h2>]\n",
            "[<span class=\"price-tag-fraction\">295.000</span>, <span class=\"price-tag-fraction\">8.194</span>, <span class=\"price-tag-fraction\">295.000</span>, <span class=\"price-tag-fraction\">8.194</span>, <span class=\"price-tag-fraction\">295.000</span>, <span class=\"price-tag-fraction\">8.194</span>, <span class=\"price-tag-fraction\">316.353</span>, <span class=\"price-tag-fraction\">268.900</span>, <span class=\"price-tag-fraction\">7.469</span>, <span class=\"price-tag-fraction\">69.900</span>, <span class=\"price-tag-fraction\">1.942</span>, <span class=\"price-tag-fraction\">15.000</span>, <span class=\"price-tag-fraction\">416</span>, <span class=\"price-tag-fraction\">29.800</span>, <span class=\"price-tag-fraction\">827</span>, <span class=\"price-tag-fraction\">42.900</span>, <span class=\"price-tag-fraction\">3.575</span>, <span class=\"price-tag-fraction\">84.900</span>, <span class=\"price-tag-fraction\">7.075</span>, <span class=\"price-tag-fraction\">986.000</span>, <span class=\"price-tag-fraction\">27.389</span>, <span class=\"price-tag-fraction\">230.000</span>, <span class=\"price-tag-fraction\">19.167</span>, <span class=\"price-tag-fraction\">389.900</span>, <span class=\"price-tag-fraction\">10.831</span>, <span class=\"price-tag-fraction\">141.765</span>, <span class=\"price-tag-fraction\">120.500</span>, <span class=\"price-tag-fraction\">3.347</span>, <span class=\"price-tag-fraction\">257.900</span>, <span class=\"price-tag-fraction\">7.164</span>, <span class=\"price-tag-fraction\">29.900</span>, <span class=\"price-tag-fraction\">830</span>, <span class=\"price-tag-fraction\">46.000</span>, <span class=\"price-tag-fraction\">1.278</span>, <span class=\"price-tag-fraction\">230.000</span>, <span class=\"price-tag-fraction\">6.389</span>, <span class=\"price-tag-fraction\">42.900</span>, <span class=\"price-tag-fraction\">3.575</span>, <span class=\"price-tag-fraction\">166.353</span>, <span class=\"price-tag-fraction\">141.400</span>, <span class=\"price-tag-fraction\">3.928</span>, <span class=\"price-tag-fraction\">310.000</span>, <span class=\"price-tag-fraction\">25.833</span>, <span class=\"price-tag-fraction\">319.900</span>, <span class=\"price-tag-fraction\">8.886</span>, <span class=\"price-tag-fraction\">210.000</span>, <span class=\"price-tag-fraction\">17.500</span>, <span class=\"price-tag-fraction\">480.000</span>, <span class=\"price-tag-fraction\">40.000</span>, <span class=\"price-tag-fraction\">375.000</span>, <span class=\"price-tag-fraction\">10.417</span>, <span class=\"price-tag-fraction\">299.000</span>, <span class=\"price-tag-fraction\">24.917</span>, <span class=\"price-tag-fraction\">375.000</span>, <span class=\"price-tag-fraction\">10.417</span>, <span class=\"price-tag-fraction\">272.895</span>, <span class=\"price-tag-fraction\">7.580</span>, <span class=\"price-tag-fraction\">148.118</span>, <span class=\"price-tag-fraction\">125.900</span>, <span class=\"price-tag-fraction\">3.497</span>, <span class=\"price-tag-fraction\">250.000</span>, <span class=\"price-tag-fraction\">6.944</span>, <span class=\"price-tag-fraction\">37.900</span>, <span class=\"price-tag-fraction\">3.158</span>, <span class=\"price-tag-fraction\">75.176</span>, <span class=\"price-tag-fraction\">63.900</span>, <span class=\"price-tag-fraction\">1.775</span>, <span class=\"price-tag-fraction\">217.000</span>, <span class=\"price-tag-fraction\">6.028</span>, <span class=\"price-tag-fraction\">44.588</span>, <span class=\"price-tag-fraction\">37.900</span>, <span class=\"price-tag-fraction\">1.053</span>, <span class=\"price-tag-fraction\">39.800</span>, <span class=\"price-tag-fraction\">1.106</span>, <span class=\"price-tag-fraction\">28.000</span>, <span class=\"price-tag-fraction\">777</span>, <span class=\"price-tag-fraction\">304.900</span>, <span class=\"price-tag-fraction\">25.408</span>, <span class=\"price-tag-fraction\">290.000</span>, <span class=\"price-tag-fraction\">8.056</span>, <span class=\"price-tag-fraction\">295.000</span>, <span class=\"price-tag-fraction\">24.583</span>, <span class=\"price-tag-fraction\">295.176</span>, <span class=\"price-tag-fraction\">250.900</span>, <span class=\"price-tag-fraction\">6.969</span>, <span class=\"price-tag-fraction\">42.900</span>, <span class=\"price-tag-fraction\">3.575</span>, <span class=\"price-tag-fraction\">290.000</span>, <span class=\"price-tag-fraction\">24.167</span>, <span class=\"price-tag-fraction\">1.260.000</span>, <span class=\"price-tag-fraction\">35.000</span>, <span class=\"price-tag-fraction\">298.000</span>, <span class=\"price-tag-fraction\">8.278</span>, <span class=\"price-tag-fraction\">219.000</span>, <span class=\"price-tag-fraction\">18.250</span>, <span class=\"price-tag-fraction\">75.176</span>, <span class=\"price-tag-fraction\">63.900</span>, <span class=\"price-tag-fraction\">1.775</span>, <span class=\"price-tag-fraction\">217.000</span>, <span class=\"price-tag-fraction\">6.028</span>, <span class=\"price-tag-fraction\">62.900</span>, <span class=\"price-tag-fraction\">5.242</span>, <span class=\"price-tag-fraction\">328.000</span>, <span class=\"price-tag-fraction\">27.333</span>, <span class=\"price-tag-fraction\">199.900</span>, <span class=\"price-tag-fraction\">5.553</span>, <span class=\"price-tag-fraction\">60.900</span>, <span class=\"price-tag-fraction\">5.075</span>]\n",
            "['Violín 4/4 3/4 Microafinacion Arco Pes Estuche Madera Nuevos', 'Cervini Novato Violín Arco Y Estuche By Cremona 1/4 3/4 4/4', 'Violines Greko 4/4 3/4 1/2 Violín Fina Madera Factura Iva ', 'Violín 4/4 Hxtq08a-1 Solido Inlaid Verona', 'Almohadilla Universal Chin Bow Vsr4 Para Violines De Lujo', 'Colofonia Natural Light Violin, Viola', 'Encordado Violin 4/4 Anton Breton Vns-139', 'Soporte De Hombro Para Violín Huihnang  1/2, 1/4, 3/4 Y 4/4', 'Soporte De Hombro Para Violin Huihnang Madera Acre 4/4 3/4. ', 'Cello Violonchelo Greko Mc 6011a 4/4 Con Forro Y Arco Chelo', 'Violín Académico Aileen. Mate O Brillante 1/8 Hasta 4/4', 'Violin Greko Performance First Estuche Afinador Microfono +', 'Set Cdas Violin 4/4 Tonica 412025 Pirastro', 'Violin Greko Con Estuche Arco Y Colofonia 1/2', 'Colofonia Kaplan Premium Vl, Vla', 'Cuerda Prelude Cello A (la) 4/4medium', 'Violín Greko Mv1410af 3/4', 'Soporte De Hombro Para Violín Huihnang  3/4 Y 4/4', 'Set Cdas Violin 4/4 Chromcor 319020 Pirastro', 'Violin Cervini-cremona Hv-100', 'Violin Greko Mv1411a + Estuche Semi-duro Arco Y Colofonia  /', 'Violin Importado 4/4 O 3/4 Con Arco, Estuche Y Pez ', 'Estuche Para Violín En Fibra De Estireno - Estuche Rígido', 'Violín De 4 Cuerdas Cremona Sv-50 Violines 3/4 ', 'Oferta Combo Violin  Greko 1413 Tamaño 4/4 Promocion', 'Violín De 4 Cuerdas Cremona Sv-50 Violines 1/2', 'Violin Fino Estudiante Nobre Alta Calidad 1/2', 'Estuche Violin 4/4 Oblongo Ckc04 Verona', 'Violin Cremona Sv50 De 1/16 Para Niños Calidad Superior', \"Colofonia D'addario Vr 300 Dark Para Violín - Viola - Cello\", 'Estuche Violin 3/4 Triangulo Ckc01 Verona', 'Violin 3/4 Acústico Con Estuche', 'Colofonia Violin 900700 Pirastro', 'Encordado Violin 4/4 Anton Breton Vns-149', 'Clavija Violín 4/4', 'Violín 1/10 En Madera Stingray Mv1411a Con Estuche, Arco', 'Violin Cervini-cremona Hv-100-1/2', 'Violin De Estudio 4/4 Y 3/4 ', 'Violin 1/2 Hxtq08a-1 Solido Inlaid Outfits Mate Verona', 'Pez Colofonia Resina Super Senstiive Dark Contrabajo America', 'Violin Mavis 4/4 Arco Resina Estuche Duro Original', 'Theremini - Animoog De Moog Music, Se Toca Sin Tocarlo', 'Violin 3/4', 'Violin Acústico Con Estuche', 'Estuche Violin 4/4 Triangulo Ckc01 Verona', 'Violin 1/2 Acústico Con Estuche', 'Pez Colofonia Resina Super Sensitive  Violin Viola Americana', 'Violín De Estudio 4/4  - Marca Aileen  - Envío Gratis ', 'Violín Importado Excelente Calidad 4/4, 3/4 Y 1/2 ', 'Almohadilla Snowpine Para Violín 1/2 En Madera']\n",
            "['Violín 4/4 3/4 Microafinacion Arco Pes Estuche Madera Nuevos', 'Cervini Novato Violín Arco Y Estuche By Cremona 1/4 3/4 4/4', 'Violines Greko 4/4 3/4 1/2 Violín Fina Madera Factura Iva ', 'Violín 4/4 Hxtq08a-1 Solido Inlaid Verona', 'Almohadilla Universal Chin Bow Vsr4 Para Violines De Lujo', 'Colofonia Natural Light Violin, Viola', 'Encordado Violin 4/4 Anton Breton Vns-139', 'Soporte De Hombro Para Violín Huihnang  1/2, 1/4, 3/4 Y 4/4', 'Soporte De Hombro Para Violin Huihnang Madera Acre 4/4 3/4. ', 'Cello Violonchelo Greko Mc 6011a 4/4 Con Forro Y Arco Chelo', 'Violín Académico Aileen. Mate O Brillante 1/8 Hasta 4/4', 'Violin Greko Performance First Estuche Afinador Microfono +', 'Set Cdas Violin 4/4 Tonica 412025 Pirastro', 'Violin Greko Con Estuche Arco Y Colofonia 1/2', 'Colofonia Kaplan Premium Vl, Vla', 'Cuerda Prelude Cello A (la) 4/4medium', 'Violín Greko Mv1410af 3/4', 'Soporte De Hombro Para Violín Huihnang  3/4 Y 4/4', 'Set Cdas Violin 4/4 Chromcor 319020 Pirastro', 'Violin Cervini-cremona Hv-100', 'Violin Greko Mv1411a + Estuche Semi-duro Arco Y Colofonia  /', 'Violin Importado 4/4 O 3/4 Con Arco, Estuche Y Pez ', 'Estuche Para Violín En Fibra De Estireno - Estuche Rígido', 'Violín De 4 Cuerdas Cremona Sv-50 Violines 3/4 ', 'Oferta Combo Violin  Greko 1413 Tamaño 4/4 Promocion', 'Violín De 4 Cuerdas Cremona Sv-50 Violines 1/2', 'Violin Fino Estudiante Nobre Alta Calidad 1/2', 'Estuche Violin 4/4 Oblongo Ckc04 Verona', 'Violin Cremona Sv50 De 1/16 Para Niños Calidad Superior', \"Colofonia D'addario Vr 300 Dark Para Violín - Viola - Cello\", 'Estuche Violin 3/4 Triangulo Ckc01 Verona', 'Violin 3/4 Acústico Con Estuche', 'Colofonia Violin 900700 Pirastro', 'Encordado Violin 4/4 Anton Breton Vns-149', 'Clavija Violín 4/4', 'Violín 1/10 En Madera Stingray Mv1411a Con Estuche, Arco', 'Violin Cervini-cremona Hv-100-1/2', 'Violin De Estudio 4/4 Y 3/4 ', 'Violin 1/2 Hxtq08a-1 Solido Inlaid Outfits Mate Verona', 'Pez Colofonia Resina Super Senstiive Dark Contrabajo America', 'Violin Mavis 4/4 Arco Resina Estuche Duro Original', 'Theremini - Animoog De Moog Music, Se Toca Sin Tocarlo', 'Violin 3/4', 'Violin Acústico Con Estuche', 'Estuche Violin 4/4 Triangulo Ckc01 Verona', 'Violin 1/2 Acústico Con Estuche', 'Pez Colofonia Resina Super Sensitive  Violin Viola Americana', 'Violín De Estudio 4/4  - Marca Aileen  - Envío Gratis ', 'Violín Importado Excelente Calidad 4/4, 3/4 Y 1/2 ', 'Almohadilla Snowpine Para Violín 1/2 En Madera']\n",
            "['295.000', '8.194', '295.000', '8.194', '295.000', '8.194', '316.353', '268.900', '7.469', '69.900', '1.942', '15.000', '416', '29.800', '827', '42.900', '3.575', '84.900', '7.075', '986.000', '27.389', '230.000', '19.167', '389.900', '10.831', '141.765', '120.500', '3.347', '257.900', '7.164', '29.900', '830', '46.000', '1.278', '230.000', '6.389', '42.900', '3.575', '166.353', '141.400', '3.928', '310.000', '25.833', '319.900', '8.886', '210.000', '17.500', '480.000', '40.000', '375.000', '10.417', '299.000', '24.917', '375.000', '10.417', '272.895', '7.580', '148.118', '125.900', '3.497', '250.000', '6.944', '37.900', '3.158', '75.176', '63.900', '1.775', '217.000', '6.028', '44.588', '37.900', '1.053', '39.800', '1.106', '28.000', '777', '304.900', '25.408', '290.000', '8.056', '295.000', '24.583', '295.176', '250.900', '6.969', '42.900', '3.575', '290.000', '24.167', '1.260.000', '35.000', '298.000', '8.278', '219.000', '18.250', '75.176', '63.900', '1.775', '217.000', '6.028', '62.900', '5.242', '328.000', '27.333', '199.900', '5.553', '60.900', '5.075']\n"
          ],
          "name": "stdout"
        }
      ]
    },
    {
      "cell_type": "markdown",
      "metadata": {
        "id": "7OMFTcWT4Uv4",
        "colab_type": "text"
      },
      "source": [
        "Se crean los diccionarios para identificar si la cantidad de nombres y de precios es igual"
      ]
    },
    {
      "cell_type": "code",
      "metadata": {
        "id": "TByCvoakxMV5",
        "colab_type": "code",
        "colab": {
          "base_uri": "https://localhost:8080/",
          "height": 34
        },
        "outputId": "7910ae87-fa4f-4ff7-e958-546024c67051"
      },
      "source": [
        "import pandas as pd\n",
        "dictViolines = {}\n",
        "dictViolines ['Titulos'] = nombreViolines[:20]\n",
        "print (len (nombreViolines), len (listaPrecios))\n",
        "dictViolines ['Precios'] = listaPrecios[:20]\n",
        "violinesDataFrame = pd.DataFrame(dictViolines)\n",
        "violinesDataFrame.to_csv('Violines.csv', index=False)"
      ],
      "execution_count": 45,
      "outputs": [
        {
          "output_type": "stream",
          "text": [
            "50 108\n"
          ],
          "name": "stdout"
        }
      ]
    },
    {
      "cell_type": "markdown",
      "metadata": {
        "id": "xNNeoLoJ4Z4P",
        "colab_type": "text"
      },
      "source": [
        "Se limitan las listas para que los productos y sus precios sean iguales"
      ]
    },
    {
      "cell_type": "code",
      "metadata": {
        "id": "dFq_1ZThxxLF",
        "colab_type": "code",
        "colab": {
          "base_uri": "https://localhost:8080/",
          "height": 72
        },
        "outputId": "74cd26db-cec8-41e0-9a7b-b3cf893a13e9"
      },
      "source": [
        "funcionAgregarViolin = lambda elemento : 'Violin : ' + elemento\n",
        "titulosViolines = list (map(funcionAgregarViolin,nombreViolines))\n",
        "print (titulosViolines)\n",
        "titulosViolines2 = funcionListaDatos (funcionAgregarViolin, nombreViolines)\n",
        "print (titulosViolines2)\n",
        "dictViolines = {}\n",
        "dictViolines['Titulos'] = titulosViolines2[:50]\n",
        "dictViolines ['Precios'] = listaPrecios[:50]\n",
        "violinesDF = pd.DataFrame(dictViolines)\n",
        "violinesDF.to_csv('violinesMod.csv', index= False)"
      ],
      "execution_count": 46,
      "outputs": [
        {
          "output_type": "stream",
          "text": [
            "['Violin : Violín 4/4 3/4 Microafinacion Arco Pes Estuche Madera Nuevos', 'Violin : Cervini Novato Violín Arco Y Estuche By Cremona 1/4 3/4 4/4', 'Violin : Violines Greko 4/4 3/4 1/2 Violín Fina Madera Factura Iva ', 'Violin : Violín 4/4 Hxtq08a-1 Solido Inlaid Verona', 'Violin : Almohadilla Universal Chin Bow Vsr4 Para Violines De Lujo', 'Violin : Colofonia Natural Light Violin, Viola', 'Violin : Encordado Violin 4/4 Anton Breton Vns-139', 'Violin : Soporte De Hombro Para Violín Huihnang  1/2, 1/4, 3/4 Y 4/4', 'Violin : Soporte De Hombro Para Violin Huihnang Madera Acre 4/4 3/4. ', 'Violin : Cello Violonchelo Greko Mc 6011a 4/4 Con Forro Y Arco Chelo', 'Violin : Violín Académico Aileen. Mate O Brillante 1/8 Hasta 4/4', 'Violin : Violin Greko Performance First Estuche Afinador Microfono +', 'Violin : Set Cdas Violin 4/4 Tonica 412025 Pirastro', 'Violin : Violin Greko Con Estuche Arco Y Colofonia 1/2', 'Violin : Colofonia Kaplan Premium Vl, Vla', 'Violin : Cuerda Prelude Cello A (la) 4/4medium', 'Violin : Violín Greko Mv1410af 3/4', 'Violin : Soporte De Hombro Para Violín Huihnang  3/4 Y 4/4', 'Violin : Set Cdas Violin 4/4 Chromcor 319020 Pirastro', 'Violin : Violin Cervini-cremona Hv-100', 'Violin : Violin Greko Mv1411a + Estuche Semi-duro Arco Y Colofonia  /', 'Violin : Violin Importado 4/4 O 3/4 Con Arco, Estuche Y Pez ', 'Violin : Estuche Para Violín En Fibra De Estireno - Estuche Rígido', 'Violin : Violín De 4 Cuerdas Cremona Sv-50 Violines 3/4 ', 'Violin : Oferta Combo Violin  Greko 1413 Tamaño 4/4 Promocion', 'Violin : Violín De 4 Cuerdas Cremona Sv-50 Violines 1/2', 'Violin : Violin Fino Estudiante Nobre Alta Calidad 1/2', 'Violin : Estuche Violin 4/4 Oblongo Ckc04 Verona', 'Violin : Violin Cremona Sv50 De 1/16 Para Niños Calidad Superior', \"Violin : Colofonia D'addario Vr 300 Dark Para Violín - Viola - Cello\", 'Violin : Estuche Violin 3/4 Triangulo Ckc01 Verona', 'Violin : Violin 3/4 Acústico Con Estuche', 'Violin : Colofonia Violin 900700 Pirastro', 'Violin : Encordado Violin 4/4 Anton Breton Vns-149', 'Violin : Clavija Violín 4/4', 'Violin : Violín 1/10 En Madera Stingray Mv1411a Con Estuche, Arco', 'Violin : Violin Cervini-cremona Hv-100-1/2', 'Violin : Violin De Estudio 4/4 Y 3/4 ', 'Violin : Violin 1/2 Hxtq08a-1 Solido Inlaid Outfits Mate Verona', 'Violin : Pez Colofonia Resina Super Senstiive Dark Contrabajo America', 'Violin : Violin Mavis 4/4 Arco Resina Estuche Duro Original', 'Violin : Theremini - Animoog De Moog Music, Se Toca Sin Tocarlo', 'Violin : Violin 3/4', 'Violin : Violin Acústico Con Estuche', 'Violin : Estuche Violin 4/4 Triangulo Ckc01 Verona', 'Violin : Violin 1/2 Acústico Con Estuche', 'Violin : Pez Colofonia Resina Super Sensitive  Violin Viola Americana', 'Violin : Violín De Estudio 4/4  - Marca Aileen  - Envío Gratis ', 'Violin : Violín Importado Excelente Calidad 4/4, 3/4 Y 1/2 ', 'Violin : Almohadilla Snowpine Para Violín 1/2 En Madera']\n",
            "['Violin : Violín 4/4 3/4 Microafinacion Arco Pes Estuche Madera Nuevos', 'Violin : Cervini Novato Violín Arco Y Estuche By Cremona 1/4 3/4 4/4', 'Violin : Violines Greko 4/4 3/4 1/2 Violín Fina Madera Factura Iva ', 'Violin : Violín 4/4 Hxtq08a-1 Solido Inlaid Verona', 'Violin : Almohadilla Universal Chin Bow Vsr4 Para Violines De Lujo', 'Violin : Colofonia Natural Light Violin, Viola', 'Violin : Encordado Violin 4/4 Anton Breton Vns-139', 'Violin : Soporte De Hombro Para Violín Huihnang  1/2, 1/4, 3/4 Y 4/4', 'Violin : Soporte De Hombro Para Violin Huihnang Madera Acre 4/4 3/4. ', 'Violin : Cello Violonchelo Greko Mc 6011a 4/4 Con Forro Y Arco Chelo', 'Violin : Violín Académico Aileen. Mate O Brillante 1/8 Hasta 4/4', 'Violin : Violin Greko Performance First Estuche Afinador Microfono +', 'Violin : Set Cdas Violin 4/4 Tonica 412025 Pirastro', 'Violin : Violin Greko Con Estuche Arco Y Colofonia 1/2', 'Violin : Colofonia Kaplan Premium Vl, Vla', 'Violin : Cuerda Prelude Cello A (la) 4/4medium', 'Violin : Violín Greko Mv1410af 3/4', 'Violin : Soporte De Hombro Para Violín Huihnang  3/4 Y 4/4', 'Violin : Set Cdas Violin 4/4 Chromcor 319020 Pirastro', 'Violin : Violin Cervini-cremona Hv-100', 'Violin : Violin Greko Mv1411a + Estuche Semi-duro Arco Y Colofonia  /', 'Violin : Violin Importado 4/4 O 3/4 Con Arco, Estuche Y Pez ', 'Violin : Estuche Para Violín En Fibra De Estireno - Estuche Rígido', 'Violin : Violín De 4 Cuerdas Cremona Sv-50 Violines 3/4 ', 'Violin : Oferta Combo Violin  Greko 1413 Tamaño 4/4 Promocion', 'Violin : Violín De 4 Cuerdas Cremona Sv-50 Violines 1/2', 'Violin : Violin Fino Estudiante Nobre Alta Calidad 1/2', 'Violin : Estuche Violin 4/4 Oblongo Ckc04 Verona', 'Violin : Violin Cremona Sv50 De 1/16 Para Niños Calidad Superior', \"Violin : Colofonia D'addario Vr 300 Dark Para Violín - Viola - Cello\", 'Violin : Estuche Violin 3/4 Triangulo Ckc01 Verona', 'Violin : Violin 3/4 Acústico Con Estuche', 'Violin : Colofonia Violin 900700 Pirastro', 'Violin : Encordado Violin 4/4 Anton Breton Vns-149', 'Violin : Clavija Violín 4/4', 'Violin : Violín 1/10 En Madera Stingray Mv1411a Con Estuche, Arco', 'Violin : Violin Cervini-cremona Hv-100-1/2', 'Violin : Violin De Estudio 4/4 Y 3/4 ', 'Violin : Violin 1/2 Hxtq08a-1 Solido Inlaid Outfits Mate Verona', 'Violin : Pez Colofonia Resina Super Senstiive Dark Contrabajo America', 'Violin : Violin Mavis 4/4 Arco Resina Estuche Duro Original', 'Violin : Theremini - Animoog De Moog Music, Se Toca Sin Tocarlo', 'Violin : Violin 3/4', 'Violin : Violin Acústico Con Estuche', 'Violin : Estuche Violin 4/4 Triangulo Ckc01 Verona', 'Violin : Violin 1/2 Acústico Con Estuche', 'Violin : Pez Colofonia Resina Super Sensitive  Violin Viola Americana', 'Violin : Violín De Estudio 4/4  - Marca Aileen  - Envío Gratis ', 'Violin : Violín Importado Excelente Calidad 4/4, 3/4 Y 1/2 ', 'Violin : Almohadilla Snowpine Para Violín 1/2 En Madera']\n"
          ],
          "name": "stdout"
        }
      ]
    },
    {
      "cell_type": "markdown",
      "metadata": {
        "id": "juHZu06v4eXn",
        "colab_type": "text"
      },
      "source": [
        "Creo listas de 2 marcas diferentes del producto, las separo y creo el dataframe"
      ]
    },
    {
      "cell_type": "code",
      "metadata": {
        "id": "i-0I2kK5yfvU",
        "colab_type": "code",
        "colab": {
          "base_uri": "https://localhost:8080/",
          "height": 72
        },
        "outputId": "612e7066-e693-4974-b5a7-3fb2e380bffc"
      },
      "source": [
        "greko = lambda elemento : 'Greko' in elemento \n",
        "cremona = lambda elemento : 'Cremona' in elemento\n",
        "\n",
        "listaGreko = list (filter(greko, titulosViolines))\n",
        "listaCremona = list (filter(cremona, titulosViolines))\n",
        "print (listaGreko)\n",
        "print (listaCremona)\n",
        "\n",
        "\n",
        "grekoSerie = pd.Series(listaGreko)\n",
        "grekoSerie.to_csv('Violines greko.csv',  index_label='Greko')\n",
        "cremonaSerie = pd.Series(listaCremona)\n",
        "cremonaSerie.to_csv('Violines cremona.csv',  index_label='Cremona')\n"
      ],
      "execution_count": 47,
      "outputs": [
        {
          "output_type": "stream",
          "text": [
            "['Violin : Violines Greko 4/4 3/4 1/2 Violín Fina Madera Factura Iva ', 'Violin : Cello Violonchelo Greko Mc 6011a 4/4 Con Forro Y Arco Chelo', 'Violin : Violin Greko Performance First Estuche Afinador Microfono +', 'Violin : Violin Greko Con Estuche Arco Y Colofonia 1/2', 'Violin : Violín Greko Mv1410af 3/4', 'Violin : Violin Greko Mv1411a + Estuche Semi-duro Arco Y Colofonia  /', 'Violin : Oferta Combo Violin  Greko 1413 Tamaño 4/4 Promocion']\n",
            "['Violin : Cervini Novato Violín Arco Y Estuche By Cremona 1/4 3/4 4/4', 'Violin : Violín De 4 Cuerdas Cremona Sv-50 Violines 3/4 ', 'Violin : Violín De 4 Cuerdas Cremona Sv-50 Violines 1/2', 'Violin : Violin Cremona Sv50 De 1/16 Para Niños Calidad Superior']\n"
          ],
          "name": "stdout"
        }
      ]
    },
    {
      "cell_type": "markdown",
      "metadata": {
        "id": "eD5iJSrg47SK",
        "colab_type": "text"
      },
      "source": [
        "Se filtran los títulos por una marca y también que tengan menos de 80 caracteres en un csv"
      ]
    },
    {
      "cell_type": "code",
      "metadata": {
        "id": "xUlDIEXyEApE",
        "colab_type": "code",
        "colab": {
          "base_uri": "https://localhost:8080/",
          "height": 54
        },
        "outputId": "364169a3-2576-4063-a2ca-053f156b37e3"
      },
      "source": [
        "nombresMenores = lambda elemento : len (elemento) <80\n",
        "\n",
        "listaCremona = list (filter(nombresMenores, listaCremona))\n",
        "print (listaCremona)\n",
        "\n",
        "listaCremona = pd.DataFrame(listaCremona)\n",
        "listaCremona.to_csv('Violines cremona filtrados.csv', index= False)"
      ],
      "execution_count": 48,
      "outputs": [
        {
          "output_type": "stream",
          "text": [
            "['Violin : Cervini Novato Violín Arco Y Estuche By Cremona 1/4 3/4 4/4', 'Violin : Violín De 4 Cuerdas Cremona Sv-50 Violines 3/4 ', 'Violin : Violín De 4 Cuerdas Cremona Sv-50 Violines 1/2', 'Violin : Violin Cremona Sv50 De 1/16 Para Niños Calidad Superior']\n"
          ],
          "name": "stdout"
        }
      ]
    },
    {
      "cell_type": "code",
      "metadata": {
        "id": "8DWPvI2rIqy0",
        "colab_type": "code",
        "colab": {
          "base_uri": "https://localhost:8080/",
          "height": 54
        },
        "outputId": "2f71ac8a-834d-4c30-a760-a2cc4d17fde5"
      },
      "source": [
        "nombresMenores1 = lambda elemento : len (elemento) <80\n",
        "\n",
        "listaGreko = list (filter(nombresMenores1, listaGreko))\n",
        "print (listaGreko)\n",
        "\n",
        "listaGreko = pd.DataFrame(listaGreko)\n",
        "listaGreko.to_csv('Violines greko filtrados.csv', index= False)"
      ],
      "execution_count": 49,
      "outputs": [
        {
          "output_type": "stream",
          "text": [
            "['Violin : Violines Greko 4/4 3/4 1/2 Violín Fina Madera Factura Iva ', 'Violin : Cello Violonchelo Greko Mc 6011a 4/4 Con Forro Y Arco Chelo', 'Violin : Violin Greko Performance First Estuche Afinador Microfono +', 'Violin : Violin Greko Con Estuche Arco Y Colofonia 1/2', 'Violin : Violín Greko Mv1410af 3/4', 'Violin : Violin Greko Mv1411a + Estuche Semi-duro Arco Y Colofonia  /', 'Violin : Oferta Combo Violin  Greko 1413 Tamaño 4/4 Promocion']\n"
          ],
          "name": "stdout"
        }
      ]
    },
    {
      "cell_type": "markdown",
      "metadata": {
        "id": "2mUFyEll4jS1",
        "colab_type": "text"
      },
      "source": [
        "Organizo los datos y muestro los DataFrame en pantalla en forma de tabla"
      ]
    },
    {
      "cell_type": "code",
      "metadata": {
        "id": "eVx5Z5Rm0BOI",
        "colab_type": "code",
        "colab": {
          "base_uri": "https://localhost:8080/",
          "height": 1000
        },
        "outputId": "a122ab82-d7d6-4db0-80a8-495427c6485f"
      },
      "source": [
        "violinesDF"
      ],
      "execution_count": 50,
      "outputs": [
        {
          "output_type": "execute_result",
          "data": {
            "text/html": [
              "<div>\n",
              "<style scoped>\n",
              "    .dataframe tbody tr th:only-of-type {\n",
              "        vertical-align: middle;\n",
              "    }\n",
              "\n",
              "    .dataframe tbody tr th {\n",
              "        vertical-align: top;\n",
              "    }\n",
              "\n",
              "    .dataframe thead th {\n",
              "        text-align: right;\n",
              "    }\n",
              "</style>\n",
              "<table border=\"1\" class=\"dataframe\">\n",
              "  <thead>\n",
              "    <tr style=\"text-align: right;\">\n",
              "      <th></th>\n",
              "      <th>Titulos</th>\n",
              "      <th>Precios</th>\n",
              "    </tr>\n",
              "  </thead>\n",
              "  <tbody>\n",
              "    <tr>\n",
              "      <th>0</th>\n",
              "      <td>Violin : Violín 4/4 3/4 Microafinacion Arco Pe...</td>\n",
              "      <td>295.000</td>\n",
              "    </tr>\n",
              "    <tr>\n",
              "      <th>1</th>\n",
              "      <td>Violin : Cervini Novato Violín Arco Y Estuche ...</td>\n",
              "      <td>8.194</td>\n",
              "    </tr>\n",
              "    <tr>\n",
              "      <th>2</th>\n",
              "      <td>Violin : Violines Greko 4/4 3/4 1/2 Violín Fin...</td>\n",
              "      <td>295.000</td>\n",
              "    </tr>\n",
              "    <tr>\n",
              "      <th>3</th>\n",
              "      <td>Violin : Violín 4/4 Hxtq08a-1 Solido Inlaid Ve...</td>\n",
              "      <td>8.194</td>\n",
              "    </tr>\n",
              "    <tr>\n",
              "      <th>4</th>\n",
              "      <td>Violin : Almohadilla Universal Chin Bow Vsr4 P...</td>\n",
              "      <td>295.000</td>\n",
              "    </tr>\n",
              "    <tr>\n",
              "      <th>5</th>\n",
              "      <td>Violin : Colofonia Natural Light Violin, Viola</td>\n",
              "      <td>8.194</td>\n",
              "    </tr>\n",
              "    <tr>\n",
              "      <th>6</th>\n",
              "      <td>Violin : Encordado Violin 4/4 Anton Breton Vns...</td>\n",
              "      <td>316.353</td>\n",
              "    </tr>\n",
              "    <tr>\n",
              "      <th>7</th>\n",
              "      <td>Violin : Soporte De Hombro Para Violín Huihnan...</td>\n",
              "      <td>268.900</td>\n",
              "    </tr>\n",
              "    <tr>\n",
              "      <th>8</th>\n",
              "      <td>Violin : Soporte De Hombro Para Violin Huihnan...</td>\n",
              "      <td>7.469</td>\n",
              "    </tr>\n",
              "    <tr>\n",
              "      <th>9</th>\n",
              "      <td>Violin : Cello Violonchelo Greko Mc 6011a 4/4 ...</td>\n",
              "      <td>69.900</td>\n",
              "    </tr>\n",
              "    <tr>\n",
              "      <th>10</th>\n",
              "      <td>Violin : Violín Académico Aileen. Mate O Brill...</td>\n",
              "      <td>1.942</td>\n",
              "    </tr>\n",
              "    <tr>\n",
              "      <th>11</th>\n",
              "      <td>Violin : Violin Greko Performance First Estuch...</td>\n",
              "      <td>15.000</td>\n",
              "    </tr>\n",
              "    <tr>\n",
              "      <th>12</th>\n",
              "      <td>Violin : Set Cdas Violin 4/4 Tonica 412025 Pir...</td>\n",
              "      <td>416</td>\n",
              "    </tr>\n",
              "    <tr>\n",
              "      <th>13</th>\n",
              "      <td>Violin : Violin Greko Con Estuche Arco Y Colof...</td>\n",
              "      <td>29.800</td>\n",
              "    </tr>\n",
              "    <tr>\n",
              "      <th>14</th>\n",
              "      <td>Violin : Colofonia Kaplan Premium Vl, Vla</td>\n",
              "      <td>827</td>\n",
              "    </tr>\n",
              "    <tr>\n",
              "      <th>15</th>\n",
              "      <td>Violin : Cuerda Prelude Cello A (la) 4/4medium</td>\n",
              "      <td>42.900</td>\n",
              "    </tr>\n",
              "    <tr>\n",
              "      <th>16</th>\n",
              "      <td>Violin : Violín Greko Mv1410af 3/4</td>\n",
              "      <td>3.575</td>\n",
              "    </tr>\n",
              "    <tr>\n",
              "      <th>17</th>\n",
              "      <td>Violin : Soporte De Hombro Para Violín Huihnan...</td>\n",
              "      <td>84.900</td>\n",
              "    </tr>\n",
              "    <tr>\n",
              "      <th>18</th>\n",
              "      <td>Violin : Set Cdas Violin 4/4 Chromcor 319020 P...</td>\n",
              "      <td>7.075</td>\n",
              "    </tr>\n",
              "    <tr>\n",
              "      <th>19</th>\n",
              "      <td>Violin : Violin Cervini-cremona Hv-100</td>\n",
              "      <td>986.000</td>\n",
              "    </tr>\n",
              "    <tr>\n",
              "      <th>20</th>\n",
              "      <td>Violin : Violin Greko Mv1411a + Estuche Semi-d...</td>\n",
              "      <td>27.389</td>\n",
              "    </tr>\n",
              "    <tr>\n",
              "      <th>21</th>\n",
              "      <td>Violin : Violin Importado 4/4 O 3/4 Con Arco, ...</td>\n",
              "      <td>230.000</td>\n",
              "    </tr>\n",
              "    <tr>\n",
              "      <th>22</th>\n",
              "      <td>Violin : Estuche Para Violín En Fibra De Estir...</td>\n",
              "      <td>19.167</td>\n",
              "    </tr>\n",
              "    <tr>\n",
              "      <th>23</th>\n",
              "      <td>Violin : Violín De 4 Cuerdas Cremona Sv-50 Vio...</td>\n",
              "      <td>389.900</td>\n",
              "    </tr>\n",
              "    <tr>\n",
              "      <th>24</th>\n",
              "      <td>Violin : Oferta Combo Violin  Greko 1413 Tamañ...</td>\n",
              "      <td>10.831</td>\n",
              "    </tr>\n",
              "    <tr>\n",
              "      <th>25</th>\n",
              "      <td>Violin : Violín De 4 Cuerdas Cremona Sv-50 Vio...</td>\n",
              "      <td>141.765</td>\n",
              "    </tr>\n",
              "    <tr>\n",
              "      <th>26</th>\n",
              "      <td>Violin : Violin Fino Estudiante Nobre Alta Cal...</td>\n",
              "      <td>120.500</td>\n",
              "    </tr>\n",
              "    <tr>\n",
              "      <th>27</th>\n",
              "      <td>Violin : Estuche Violin 4/4 Oblongo Ckc04 Verona</td>\n",
              "      <td>3.347</td>\n",
              "    </tr>\n",
              "    <tr>\n",
              "      <th>28</th>\n",
              "      <td>Violin : Violin Cremona Sv50 De 1/16 Para Niño...</td>\n",
              "      <td>257.900</td>\n",
              "    </tr>\n",
              "    <tr>\n",
              "      <th>29</th>\n",
              "      <td>Violin : Colofonia D'addario Vr 300 Dark Para ...</td>\n",
              "      <td>7.164</td>\n",
              "    </tr>\n",
              "    <tr>\n",
              "      <th>30</th>\n",
              "      <td>Violin : Estuche Violin 3/4 Triangulo Ckc01 Ve...</td>\n",
              "      <td>29.900</td>\n",
              "    </tr>\n",
              "    <tr>\n",
              "      <th>31</th>\n",
              "      <td>Violin : Violin 3/4 Acústico Con Estuche</td>\n",
              "      <td>830</td>\n",
              "    </tr>\n",
              "    <tr>\n",
              "      <th>32</th>\n",
              "      <td>Violin : Colofonia Violin 900700 Pirastro</td>\n",
              "      <td>46.000</td>\n",
              "    </tr>\n",
              "    <tr>\n",
              "      <th>33</th>\n",
              "      <td>Violin : Encordado Violin 4/4 Anton Breton Vns...</td>\n",
              "      <td>1.278</td>\n",
              "    </tr>\n",
              "    <tr>\n",
              "      <th>34</th>\n",
              "      <td>Violin : Clavija Violín 4/4</td>\n",
              "      <td>230.000</td>\n",
              "    </tr>\n",
              "    <tr>\n",
              "      <th>35</th>\n",
              "      <td>Violin : Violín 1/10 En Madera Stingray Mv1411...</td>\n",
              "      <td>6.389</td>\n",
              "    </tr>\n",
              "    <tr>\n",
              "      <th>36</th>\n",
              "      <td>Violin : Violin Cervini-cremona Hv-100-1/2</td>\n",
              "      <td>42.900</td>\n",
              "    </tr>\n",
              "    <tr>\n",
              "      <th>37</th>\n",
              "      <td>Violin : Violin De Estudio 4/4 Y 3/4</td>\n",
              "      <td>3.575</td>\n",
              "    </tr>\n",
              "    <tr>\n",
              "      <th>38</th>\n",
              "      <td>Violin : Violin 1/2 Hxtq08a-1 Solido Inlaid Ou...</td>\n",
              "      <td>166.353</td>\n",
              "    </tr>\n",
              "    <tr>\n",
              "      <th>39</th>\n",
              "      <td>Violin : Pez Colofonia Resina Super Senstiive ...</td>\n",
              "      <td>141.400</td>\n",
              "    </tr>\n",
              "    <tr>\n",
              "      <th>40</th>\n",
              "      <td>Violin : Violin Mavis 4/4 Arco Resina Estuche ...</td>\n",
              "      <td>3.928</td>\n",
              "    </tr>\n",
              "    <tr>\n",
              "      <th>41</th>\n",
              "      <td>Violin : Theremini - Animoog De Moog Music, Se...</td>\n",
              "      <td>310.000</td>\n",
              "    </tr>\n",
              "    <tr>\n",
              "      <th>42</th>\n",
              "      <td>Violin : Violin 3/4</td>\n",
              "      <td>25.833</td>\n",
              "    </tr>\n",
              "    <tr>\n",
              "      <th>43</th>\n",
              "      <td>Violin : Violin Acústico Con Estuche</td>\n",
              "      <td>319.900</td>\n",
              "    </tr>\n",
              "    <tr>\n",
              "      <th>44</th>\n",
              "      <td>Violin : Estuche Violin 4/4 Triangulo Ckc01 Ve...</td>\n",
              "      <td>8.886</td>\n",
              "    </tr>\n",
              "    <tr>\n",
              "      <th>45</th>\n",
              "      <td>Violin : Violin 1/2 Acústico Con Estuche</td>\n",
              "      <td>210.000</td>\n",
              "    </tr>\n",
              "    <tr>\n",
              "      <th>46</th>\n",
              "      <td>Violin : Pez Colofonia Resina Super Sensitive ...</td>\n",
              "      <td>17.500</td>\n",
              "    </tr>\n",
              "    <tr>\n",
              "      <th>47</th>\n",
              "      <td>Violin : Violín De Estudio 4/4  - Marca Aileen...</td>\n",
              "      <td>480.000</td>\n",
              "    </tr>\n",
              "    <tr>\n",
              "      <th>48</th>\n",
              "      <td>Violin : Violín Importado Excelente Calidad 4/...</td>\n",
              "      <td>40.000</td>\n",
              "    </tr>\n",
              "    <tr>\n",
              "      <th>49</th>\n",
              "      <td>Violin : Almohadilla Snowpine Para Violín 1/2 ...</td>\n",
              "      <td>375.000</td>\n",
              "    </tr>\n",
              "  </tbody>\n",
              "</table>\n",
              "</div>"
            ],
            "text/plain": [
              "                                              Titulos  Precios\n",
              "0   Violin : Violín 4/4 3/4 Microafinacion Arco Pe...  295.000\n",
              "1   Violin : Cervini Novato Violín Arco Y Estuche ...    8.194\n",
              "2   Violin : Violines Greko 4/4 3/4 1/2 Violín Fin...  295.000\n",
              "3   Violin : Violín 4/4 Hxtq08a-1 Solido Inlaid Ve...    8.194\n",
              "4   Violin : Almohadilla Universal Chin Bow Vsr4 P...  295.000\n",
              "5      Violin : Colofonia Natural Light Violin, Viola    8.194\n",
              "6   Violin : Encordado Violin 4/4 Anton Breton Vns...  316.353\n",
              "7   Violin : Soporte De Hombro Para Violín Huihnan...  268.900\n",
              "8   Violin : Soporte De Hombro Para Violin Huihnan...    7.469\n",
              "9   Violin : Cello Violonchelo Greko Mc 6011a 4/4 ...   69.900\n",
              "10  Violin : Violín Académico Aileen. Mate O Brill...    1.942\n",
              "11  Violin : Violin Greko Performance First Estuch...   15.000\n",
              "12  Violin : Set Cdas Violin 4/4 Tonica 412025 Pir...      416\n",
              "13  Violin : Violin Greko Con Estuche Arco Y Colof...   29.800\n",
              "14          Violin : Colofonia Kaplan Premium Vl, Vla      827\n",
              "15     Violin : Cuerda Prelude Cello A (la) 4/4medium   42.900\n",
              "16                 Violin : Violín Greko Mv1410af 3/4    3.575\n",
              "17  Violin : Soporte De Hombro Para Violín Huihnan...   84.900\n",
              "18  Violin : Set Cdas Violin 4/4 Chromcor 319020 P...    7.075\n",
              "19             Violin : Violin Cervini-cremona Hv-100  986.000\n",
              "20  Violin : Violin Greko Mv1411a + Estuche Semi-d...   27.389\n",
              "21  Violin : Violin Importado 4/4 O 3/4 Con Arco, ...  230.000\n",
              "22  Violin : Estuche Para Violín En Fibra De Estir...   19.167\n",
              "23  Violin : Violín De 4 Cuerdas Cremona Sv-50 Vio...  389.900\n",
              "24  Violin : Oferta Combo Violin  Greko 1413 Tamañ...   10.831\n",
              "25  Violin : Violín De 4 Cuerdas Cremona Sv-50 Vio...  141.765\n",
              "26  Violin : Violin Fino Estudiante Nobre Alta Cal...  120.500\n",
              "27   Violin : Estuche Violin 4/4 Oblongo Ckc04 Verona    3.347\n",
              "28  Violin : Violin Cremona Sv50 De 1/16 Para Niño...  257.900\n",
              "29  Violin : Colofonia D'addario Vr 300 Dark Para ...    7.164\n",
              "30  Violin : Estuche Violin 3/4 Triangulo Ckc01 Ve...   29.900\n",
              "31           Violin : Violin 3/4 Acústico Con Estuche      830\n",
              "32          Violin : Colofonia Violin 900700 Pirastro   46.000\n",
              "33  Violin : Encordado Violin 4/4 Anton Breton Vns...    1.278\n",
              "34                        Violin : Clavija Violín 4/4  230.000\n",
              "35  Violin : Violín 1/10 En Madera Stingray Mv1411...    6.389\n",
              "36         Violin : Violin Cervini-cremona Hv-100-1/2   42.900\n",
              "37              Violin : Violin De Estudio 4/4 Y 3/4     3.575\n",
              "38  Violin : Violin 1/2 Hxtq08a-1 Solido Inlaid Ou...  166.353\n",
              "39  Violin : Pez Colofonia Resina Super Senstiive ...  141.400\n",
              "40  Violin : Violin Mavis 4/4 Arco Resina Estuche ...    3.928\n",
              "41  Violin : Theremini - Animoog De Moog Music, Se...  310.000\n",
              "42                                Violin : Violin 3/4   25.833\n",
              "43               Violin : Violin Acústico Con Estuche  319.900\n",
              "44  Violin : Estuche Violin 4/4 Triangulo Ckc01 Ve...    8.886\n",
              "45           Violin : Violin 1/2 Acústico Con Estuche  210.000\n",
              "46  Violin : Pez Colofonia Resina Super Sensitive ...   17.500\n",
              "47  Violin : Violín De Estudio 4/4  - Marca Aileen...  480.000\n",
              "48  Violin : Violín Importado Excelente Calidad 4/...   40.000\n",
              "49  Violin : Almohadilla Snowpine Para Violín 1/2 ...  375.000"
            ]
          },
          "metadata": {
            "tags": []
          },
          "execution_count": 50
        }
      ]
    },
    {
      "cell_type": "code",
      "metadata": {
        "id": "UyHptFinFtsf",
        "colab_type": "code",
        "colab": {
          "base_uri": "https://localhost:8080/",
          "height": 167
        },
        "outputId": "4a53b593-f506-4797-cda9-7c80762df8e4"
      },
      "source": [
        "listaCremona"
      ],
      "execution_count": 51,
      "outputs": [
        {
          "output_type": "execute_result",
          "data": {
            "text/html": [
              "<div>\n",
              "<style scoped>\n",
              "    .dataframe tbody tr th:only-of-type {\n",
              "        vertical-align: middle;\n",
              "    }\n",
              "\n",
              "    .dataframe tbody tr th {\n",
              "        vertical-align: top;\n",
              "    }\n",
              "\n",
              "    .dataframe thead th {\n",
              "        text-align: right;\n",
              "    }\n",
              "</style>\n",
              "<table border=\"1\" class=\"dataframe\">\n",
              "  <thead>\n",
              "    <tr style=\"text-align: right;\">\n",
              "      <th></th>\n",
              "      <th>0</th>\n",
              "    </tr>\n",
              "  </thead>\n",
              "  <tbody>\n",
              "    <tr>\n",
              "      <th>0</th>\n",
              "      <td>Violin : Cervini Novato Violín Arco Y Estuche ...</td>\n",
              "    </tr>\n",
              "    <tr>\n",
              "      <th>1</th>\n",
              "      <td>Violin : Violín De 4 Cuerdas Cremona Sv-50 Vio...</td>\n",
              "    </tr>\n",
              "    <tr>\n",
              "      <th>2</th>\n",
              "      <td>Violin : Violín De 4 Cuerdas Cremona Sv-50 Vio...</td>\n",
              "    </tr>\n",
              "    <tr>\n",
              "      <th>3</th>\n",
              "      <td>Violin : Violin Cremona Sv50 De 1/16 Para Niño...</td>\n",
              "    </tr>\n",
              "  </tbody>\n",
              "</table>\n",
              "</div>"
            ],
            "text/plain": [
              "                                                   0\n",
              "0  Violin : Cervini Novato Violín Arco Y Estuche ...\n",
              "1  Violin : Violín De 4 Cuerdas Cremona Sv-50 Vio...\n",
              "2  Violin : Violín De 4 Cuerdas Cremona Sv-50 Vio...\n",
              "3  Violin : Violin Cremona Sv50 De 1/16 Para Niño..."
            ]
          },
          "metadata": {
            "tags": []
          },
          "execution_count": 51
        }
      ]
    },
    {
      "cell_type": "code",
      "metadata": {
        "id": "cq8QMECwFx8b",
        "colab_type": "code",
        "colab": {
          "base_uri": "https://localhost:8080/",
          "height": 257
        },
        "outputId": "ffd1b0a8-6174-40d2-d126-01129e25df83"
      },
      "source": [
        "listaGreko"
      ],
      "execution_count": 52,
      "outputs": [
        {
          "output_type": "execute_result",
          "data": {
            "text/html": [
              "<div>\n",
              "<style scoped>\n",
              "    .dataframe tbody tr th:only-of-type {\n",
              "        vertical-align: middle;\n",
              "    }\n",
              "\n",
              "    .dataframe tbody tr th {\n",
              "        vertical-align: top;\n",
              "    }\n",
              "\n",
              "    .dataframe thead th {\n",
              "        text-align: right;\n",
              "    }\n",
              "</style>\n",
              "<table border=\"1\" class=\"dataframe\">\n",
              "  <thead>\n",
              "    <tr style=\"text-align: right;\">\n",
              "      <th></th>\n",
              "      <th>0</th>\n",
              "    </tr>\n",
              "  </thead>\n",
              "  <tbody>\n",
              "    <tr>\n",
              "      <th>0</th>\n",
              "      <td>Violin : Violines Greko 4/4 3/4 1/2 Violín Fin...</td>\n",
              "    </tr>\n",
              "    <tr>\n",
              "      <th>1</th>\n",
              "      <td>Violin : Cello Violonchelo Greko Mc 6011a 4/4 ...</td>\n",
              "    </tr>\n",
              "    <tr>\n",
              "      <th>2</th>\n",
              "      <td>Violin : Violin Greko Performance First Estuch...</td>\n",
              "    </tr>\n",
              "    <tr>\n",
              "      <th>3</th>\n",
              "      <td>Violin : Violin Greko Con Estuche Arco Y Colof...</td>\n",
              "    </tr>\n",
              "    <tr>\n",
              "      <th>4</th>\n",
              "      <td>Violin : Violín Greko Mv1410af 3/4</td>\n",
              "    </tr>\n",
              "    <tr>\n",
              "      <th>5</th>\n",
              "      <td>Violin : Violin Greko Mv1411a + Estuche Semi-d...</td>\n",
              "    </tr>\n",
              "    <tr>\n",
              "      <th>6</th>\n",
              "      <td>Violin : Oferta Combo Violin  Greko 1413 Tamañ...</td>\n",
              "    </tr>\n",
              "  </tbody>\n",
              "</table>\n",
              "</div>"
            ],
            "text/plain": [
              "                                                   0\n",
              "0  Violin : Violines Greko 4/4 3/4 1/2 Violín Fin...\n",
              "1  Violin : Cello Violonchelo Greko Mc 6011a 4/4 ...\n",
              "2  Violin : Violin Greko Performance First Estuch...\n",
              "3  Violin : Violin Greko Con Estuche Arco Y Colof...\n",
              "4                 Violin : Violín Greko Mv1410af 3/4\n",
              "5  Violin : Violin Greko Mv1411a + Estuche Semi-d...\n",
              "6  Violin : Oferta Combo Violin  Greko 1413 Tamañ..."
            ]
          },
          "metadata": {
            "tags": []
          },
          "execution_count": 52
        }
      ]
    }
  ]
}